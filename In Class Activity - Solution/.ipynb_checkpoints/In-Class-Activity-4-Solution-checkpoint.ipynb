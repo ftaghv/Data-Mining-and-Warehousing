{
 "cells": [
  {
   "cell_type": "markdown",
   "id": "c1b64918",
   "metadata": {},
   "source": [
    "## While Loops"
   ]
  },
  {
   "cell_type": "markdown",
   "id": "bb2c5128",
   "metadata": {},
   "source": [
    "Use a `while` loop to print the numbers from 1 to 5."
   ]
  },
  {
   "cell_type": "code",
   "execution_count": 1,
   "id": "767d765d",
   "metadata": {
    "vscode": {
     "languageId": "plaintext"
    }
   },
   "outputs": [
    {
     "name": "stdout",
     "output_type": "stream",
     "text": [
      "1\n",
      "2\n",
      "3\n",
      "4\n",
      "5\n"
     ]
    }
   ],
   "source": [
    "i = 1\n",
    "while i <= 5:\n",
    "    print(i)\n",
    "    i += 1"
   ]
  },
  {
   "cell_type": "markdown",
   "id": "15f75378",
   "metadata": {},
   "source": [
    "Use a `while` loop to count from 1 to 5, but stop the loop completely when the number is 3 using `break`."
   ]
  },
  {
   "cell_type": "code",
   "execution_count": 2,
   "id": "423238cb",
   "metadata": {
    "vscode": {
     "languageId": "plaintext"
    }
   },
   "outputs": [
    {
     "name": "stdout",
     "output_type": "stream",
     "text": [
      "1\n",
      "2\n"
     ]
    }
   ],
   "source": [
    "i = 1\n",
    "while i <= 5:\n",
    "    if i == 3:\n",
    "        break\n",
    "    print(i)\n",
    "    i += 1"
   ]
  },
  {
   "cell_type": "markdown",
   "id": "1b25b18c",
   "metadata": {},
   "source": [
    "Use a `while` loop to count from 1 to 5, but skip printing the number 3 using `continue`."
   ]
  },
  {
   "cell_type": "code",
   "execution_count": 3,
   "id": "42bc2f29",
   "metadata": {
    "vscode": {
     "languageId": "plaintext"
    }
   },
   "outputs": [
    {
     "name": "stdout",
     "output_type": "stream",
     "text": [
      "1\n",
      "2\n",
      "4\n",
      "5\n"
     ]
    }
   ],
   "source": [
    "i = 1\n",
    "while i <= 5:\n",
    "    if i == 3:\n",
    "        i += 1\n",
    "        continue\n",
    "    print(i)\n",
    "    i += 1"
   ]
  },
  {
   "cell_type": "markdown",
   "id": "3360aa3b",
   "metadata": {},
   "source": [
    "Use a `while` loop to count from 1 to 4. When the loop ends, use `else` to print `\"Loop ended\"`."
   ]
  },
  {
   "cell_type": "code",
   "execution_count": 4,
   "id": "cb7b7850",
   "metadata": {
    "vscode": {
     "languageId": "plaintext"
    }
   },
   "outputs": [
    {
     "name": "stdout",
     "output_type": "stream",
     "text": [
      "1\n",
      "2\n",
      "3\n",
      "4\n",
      "Loop ended\n"
     ]
    }
   ],
   "source": [
    "i = 1\n",
    "while i <= 4:\n",
    "    print(i)\n",
    "    i += 1\n",
    "else:\n",
    "    print(\"Loop ended\")"
   ]
  },
  {
   "cell_type": "markdown",
   "id": "402681a8",
   "metadata": {},
   "source": [
    "## For Loops"
   ]
  },
  {
   "cell_type": "markdown",
   "id": "ebe73ebb",
   "metadata": {},
   "source": [
    "Create a list of fruits: `[\"apple\", \"banana\", \"cherry\"]`.  \n",
    "Use a `for` loop to print each fruit."
   ]
  },
  {
   "cell_type": "code",
   "execution_count": 5,
   "id": "5ce3b899",
   "metadata": {
    "vscode": {
     "languageId": "plaintext"
    }
   },
   "outputs": [
    {
     "name": "stdout",
     "output_type": "stream",
     "text": [
      "apple\n",
      "banana\n",
      "cherry\n"
     ]
    }
   ],
   "source": [
    "fruits = [\"apple\", \"banana\", \"cherry\"]\n",
    "for fruit in fruits:\n",
    "    print(fruit)"
   ]
  },
  {
   "cell_type": "markdown",
   "id": "beb24a5c",
   "metadata": {},
   "source": [
    "Use a `for` loop to print each letter in the word `\"banana\"`."
   ]
  },
  {
   "cell_type": "code",
   "execution_count": 7,
   "id": "b3630ed1",
   "metadata": {
    "vscode": {
     "languageId": "plaintext"
    }
   },
   "outputs": [
    {
     "name": "stdout",
     "output_type": "stream",
     "text": [
      "b\n",
      "a\n",
      "n\n",
      "a\n",
      "n\n",
      "a\n"
     ]
    }
   ],
   "source": [
    "for letter in \"banana\":\n",
    "    print(letter)"
   ]
  },
  {
   "cell_type": "markdown",
   "id": "631458c0",
   "metadata": {},
   "source": [
    "Use a `for` loop and `range()` to print the numbers from 0 to 4."
   ]
  },
  {
   "cell_type": "code",
   "execution_count": 8,
   "id": "06d7d699",
   "metadata": {
    "vscode": {
     "languageId": "plaintext"
    }
   },
   "outputs": [
    {
     "name": "stdout",
     "output_type": "stream",
     "text": [
      "0\n",
      "1\n",
      "2\n",
      "3\n",
      "4\n"
     ]
    }
   ],
   "source": [
    "for i in range(5):\n",
    "    print(i)"
   ]
  },
  {
   "cell_type": "markdown",
   "id": "3cdf0095",
   "metadata": {},
   "source": [
    "Use a `for` loop to print numbers from 2 to 5 using `range(2, 6)`."
   ]
  },
  {
   "cell_type": "code",
   "execution_count": 9,
   "id": "c989b1b9",
   "metadata": {
    "vscode": {
     "languageId": "plaintext"
    }
   },
   "outputs": [
    {
     "name": "stdout",
     "output_type": "stream",
     "text": [
      "2\n",
      "3\n",
      "4\n",
      "5\n"
     ]
    }
   ],
   "source": [
    "for i in range(2, 6):\n",
    "    print(i)"
   ]
  },
  {
   "cell_type": "markdown",
   "id": "db65e3f9",
   "metadata": {},
   "source": [
    "Use a `for` loop to print every 3rd number from 2 to 20 using `range(2, 21, 3)`."
   ]
  },
  {
   "cell_type": "code",
   "execution_count": 10,
   "id": "4d91a391",
   "metadata": {},
   "outputs": [
    {
     "name": "stdout",
     "output_type": "stream",
     "text": [
      "2\n",
      "5\n",
      "8\n",
      "11\n",
      "14\n",
      "17\n",
      "20\n"
     ]
    }
   ],
   "source": [
    "for i in range(2, 21, 3):\n",
    "    print(i)"
   ]
  },
  {
   "cell_type": "markdown",
   "id": "773a82bc",
   "metadata": {},
   "source": [
    "## Nested Loops"
   ]
  },
  {
   "cell_type": "markdown",
   "id": "c787505c",
   "metadata": {},
   "source": [
    "Create two lists:\n",
    "\n",
    "```python\n",
    "flavors = [\"vanilla\", \"chocolate\", \"strawberry\"]\n",
    "toppings = [\"sprinkles\", \"chocolate chips\", \"caramel\"]\n",
    "```\n",
    "\n",
    "Use **nested loops** to print every possible ice cream + topping combination.\n",
    "\n",
    "### Example Output:\n",
    "\n",
    "```\n",
    "vanilla with sprinkles  \n",
    "vanilla with chocolate chips  \n",
    "vanilla with caramel  \n",
    "chocolate with sprinkles  \n",
    "```"
   ]
  },
  {
   "cell_type": "code",
   "execution_count": 11,
   "id": "3f2ed48b",
   "metadata": {},
   "outputs": [
    {
     "name": "stdout",
     "output_type": "stream",
     "text": [
      "vanilla with sprinkles\n",
      "vanilla with chocolate chips\n",
      "vanilla with caramel\n",
      "chocolate with sprinkles\n",
      "chocolate with chocolate chips\n",
      "chocolate with caramel\n",
      "strawberry with sprinkles\n",
      "strawberry with chocolate chips\n",
      "strawberry with caramel\n"
     ]
    }
   ],
   "source": [
    "flavors = [\"vanilla\", \"chocolate\", \"strawberry\"]\n",
    "toppings = [\"sprinkles\", \"chocolate chips\", \"caramel\"]\n",
    "\n",
    "for flavor in flavors:\n",
    "    for topping in toppings:\n",
    "        print(flavor + \" with \" + topping)"
   ]
  }
 ],
 "metadata": {
  "kernelspec": {
   "display_name": "Python 3 (ipykernel)",
   "language": "python",
   "name": "python3"
  },
  "language_info": {
   "codemirror_mode": {
    "name": "ipython",
    "version": 3
   },
   "file_extension": ".py",
   "mimetype": "text/x-python",
   "name": "python",
   "nbconvert_exporter": "python",
   "pygments_lexer": "ipython3",
   "version": "3.11.5"
  }
 },
 "nbformat": 4,
 "nbformat_minor": 5
}

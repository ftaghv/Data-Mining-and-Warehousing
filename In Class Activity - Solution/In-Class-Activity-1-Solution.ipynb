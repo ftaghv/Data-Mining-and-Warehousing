{
 "cells": [
  {
   "cell_type": "markdown",
   "id": "9525439c",
   "metadata": {},
   "source": [
    "## Variables and Data Types"
   ]
  },
  {
   "cell_type": "markdown",
   "id": "5d53d0ac",
   "metadata": {},
   "source": [
    "Create the following variables and print their values and types:\n",
    "\n",
    "```python\n",
    "x = 10\n",
    "y = \"Python\"\n",
    "z = 3.5\n",
    "```"
   ]
  },
  {
   "cell_type": "code",
   "execution_count": 1,
   "id": "4f3a6fdc",
   "metadata": {},
   "outputs": [
    {
     "name": "stdout",
     "output_type": "stream",
     "text": [
      "10 <class 'int'>\n",
      "Python <class 'str'>\n",
      "3.5 <class 'float'>\n"
     ]
    }
   ],
   "source": [
    "x = 10\n",
    "y = \"Python\"\n",
    "z = 3.5\n",
    "\n",
    "print(x, type(x))\n",
    "print(y, type(y))\n",
    "print(z, type(z))"
   ]
  },
  {
   "cell_type": "markdown",
   "id": "da35909f",
   "metadata": {},
   "source": [
    "## Variable Reassignment"
   ]
  },
  {
   "cell_type": "markdown",
   "id": "5ca23bf8",
   "metadata": {},
   "source": [
    "Assign the value 5 to a variable `a`.  \n",
    "Reassign the string `\"five\"` to `a`.  \n",
    "Print `a`.  \n",
    "Explain what happened."
   ]
  },
  {
   "cell_type": "code",
   "execution_count": 2,
   "id": "a731b522",
   "metadata": {},
   "outputs": [
    {
     "name": "stdout",
     "output_type": "stream",
     "text": [
      "five\n"
     ]
    }
   ],
   "source": [
    "a = 5\n",
    "a = \"five\"\n",
    "print(a)"
   ]
  },
  {
   "cell_type": "markdown",
   "id": "a430d7eb",
   "metadata": {},
   "source": [
    "## Casting Values"
   ]
  },
  {
   "cell_type": "markdown",
   "id": "8286fbdd",
   "metadata": {},
   "source": [
    "Create these variables:\n",
    "\n",
    "```python\n",
    "x = str(9)\n",
    "y = int(\"7\")\n",
    "z = float(\"4.2\")\n",
    "```\n",
    "\n",
    "Print each variable’s value and type."
   ]
  },
  {
   "cell_type": "code",
   "execution_count": 3,
   "id": "803905c2",
   "metadata": {},
   "outputs": [
    {
     "name": "stdout",
     "output_type": "stream",
     "text": [
      "9 <class 'str'>\n",
      "7 <class 'int'>\n",
      "4.2 <class 'float'>\n"
     ]
    }
   ],
   "source": [
    "x = str(9)\n",
    "y = int(\"7\")\n",
    "z = float(\"4.2\")\n",
    "\n",
    "print(x, type(x))\n",
    "print(y, type(y))\n",
    "print(z, type(z))"
   ]
  },
  {
   "cell_type": "markdown",
   "id": "2f70d0aa",
   "metadata": {},
   "source": [
    "## Variable Name"
   ]
  },
  {
   "cell_type": "markdown",
   "id": "c6e5b611",
   "metadata": {},
   "source": [
    "Which of the following are valid variable names in Python? (Write Valid or Invalid)\n",
    "\n",
    "- `my_var`  \n",
    "- `2cool`  \n",
    "- `userName`  \n",
    "- `class`  \n",
    "- `_total`"
   ]
  },
  {
   "cell_type": "markdown",
   "id": "6d6a4a1a",
   "metadata": {},
   "source": [
    "| Variable Name | Validity         |\n",
    "|---------------|------------------|\n",
    "| my_var        | Valid            |\n",
    "| 2cool         | Invalid          |\n",
    "| userName      | Valid            |\n",
    "| class         | Invalid (keyword)|\n",
    "| _total        | Valid            |"
   ]
  },
  {
   "cell_type": "markdown",
   "id": "126a6914",
   "metadata": {},
   "source": [
    "## Multi-variable Assignment"
   ]
  },
  {
   "cell_type": "markdown",
   "id": "a93c2d57",
   "metadata": {},
   "source": [
    "Assign `\"apple\"`, `\"banana\"`, and `\"cherry\"` to three variables in one line. Print each variable."
   ]
  },
  {
   "cell_type": "code",
   "execution_count": 4,
   "id": "37c4b13f",
   "metadata": {},
   "outputs": [
    {
     "name": "stdout",
     "output_type": "stream",
     "text": [
      "apple\n",
      "banana\n",
      "cherry\n"
     ]
    }
   ],
   "source": [
    "a, b, c = \"apple\", \"banana\", \"cherry\"\n",
    "print(a)\n",
    "print(b)\n",
    "print(c)"
   ]
  },
  {
   "cell_type": "markdown",
   "id": "b8a48d82",
   "metadata": {},
   "source": [
    "Use this string for the following Questions:\n",
    "\n",
    "```python\n",
    "msg = \" Hello, Python! \"\n",
    "```"
   ]
  },
  {
   "cell_type": "markdown",
   "id": "d60d5070",
   "metadata": {},
   "source": [
    "## Remove whitespace"
   ]
  },
  {
   "cell_type": "markdown",
   "id": "adb1352a",
   "metadata": {},
   "source": [
    "Print the string without leading or trailing spaces."
   ]
  },
  {
   "cell_type": "code",
   "execution_count": 6,
   "id": "9098716f",
   "metadata": {},
   "outputs": [
    {
     "name": "stdout",
     "output_type": "stream",
     "text": [
      "Hello, Python!\n"
     ]
    }
   ],
   "source": [
    "msg = \" Hello, Python! \"\n",
    "print(msg.strip())"
   ]
  },
  {
   "cell_type": "markdown",
   "id": "b2f20969",
   "metadata": {},
   "source": [
    "## Convert case"
   ]
  },
  {
   "cell_type": "markdown",
   "id": "39c3a19f",
   "metadata": {},
   "source": [
    "Print the string in:\n",
    "- All uppercase\n",
    "- All lowercase"
   ]
  },
  {
   "cell_type": "code",
   "execution_count": 7,
   "id": "f4724812",
   "metadata": {},
   "outputs": [
    {
     "name": "stdout",
     "output_type": "stream",
     "text": [
      " HELLO, PYTHON! \n",
      " hello, python! \n"
     ]
    }
   ],
   "source": [
    "msg = \" Hello, Python! \"\n",
    "print(msg.upper())\n",
    "print(msg.lower())"
   ]
  },
  {
   "cell_type": "markdown",
   "id": "c8c2f530",
   "metadata": {},
   "source": [
    "## Replace"
   ]
  },
  {
   "cell_type": "markdown",
   "id": "5fa96829",
   "metadata": {},
   "source": [
    "Replace `\"Python\"` with `\"World\"`."
   ]
  },
  {
   "cell_type": "code",
   "execution_count": 8,
   "id": "4647c5ba",
   "metadata": {},
   "outputs": [
    {
     "name": "stdout",
     "output_type": "stream",
     "text": [
      " Hello, World! \n"
     ]
    }
   ],
   "source": [
    "msg = \" Hello, Python! \"\n",
    "print(msg.replace(\"Python\", \"World\"))"
   ]
  },
  {
   "cell_type": "markdown",
   "id": "972f10ad",
   "metadata": {},
   "source": [
    "## Slicing  "
   ]
  },
  {
   "cell_type": "markdown",
   "id": "d5b74ca8",
   "metadata": {},
   "source": [
    "- Print `\"Hello\"` using slicing.  \n",
    "- Print `\"Python\"` using slicing.  \n",
    "- Print `\"llo\"` using slicing.  \n",
    "- Print `\"hon\"` using negative indexing."
   ]
  },
  {
   "cell_type": "code",
   "execution_count": 27,
   "id": "f18791e3",
   "metadata": {},
   "outputs": [
    {
     "name": "stdout",
     "output_type": "stream",
     "text": [
      "Hello\n",
      "Python\n",
      "llo\n",
      "hon\n"
     ]
    }
   ],
   "source": [
    "msg = \" Hello, Python! \"\n",
    "msg = msg.strip()\n",
    "\n",
    "print(msg[0:5])       # \"Hello\"\n",
    "print(msg[7:13])      # \"Python\"\n",
    "print(msg[2:5])       # \"llo\"\n",
    "print(msg[-4:-1])       # \"hon\""
   ]
  },
  {
   "cell_type": "markdown",
   "id": "7da6e7db",
   "metadata": {},
   "source": [
    "## String length"
   ]
  },
  {
   "cell_type": "markdown",
   "id": "6202f4db",
   "metadata": {},
   "source": [
    "Print the number of characters in the trimmed string."
   ]
  },
  {
   "cell_type": "code",
   "execution_count": 24,
   "id": "048ec97b",
   "metadata": {},
   "outputs": [
    {
     "name": "stdout",
     "output_type": "stream",
     "text": [
      "14\n"
     ]
    }
   ],
   "source": [
    "msg = \" Hello, Python! \"\n",
    "print(len(msg.strip()))"
   ]
  },
  {
   "cell_type": "markdown",
   "id": "cbe18b49",
   "metadata": {},
   "source": [
    "## String Concatenation"
   ]
  },
  {
   "cell_type": "markdown",
   "id": "b84b024b",
   "metadata": {},
   "source": [
    "Create two variables:  \n",
    "```python\n",
    "first = \"Good\"\n",
    "second = \"Morning\"\n",
    "```\n",
    "Combine them into `\"Good Morning\"` using string concatenation."
   ]
  },
  {
   "cell_type": "code",
   "execution_count": 28,
   "id": "4f71bef8",
   "metadata": {},
   "outputs": [
    {
     "name": "stdout",
     "output_type": "stream",
     "text": [
      "Good Morning\n"
     ]
    }
   ],
   "source": [
    "first = \"Good\"\n",
    "second = \"Morning\"\n",
    "print(first + \" \" + second)"
   ]
  },
  {
   "cell_type": "markdown",
   "id": "dc654503",
   "metadata": {},
   "source": [
    "## Multiline String"
   ]
  },
  {
   "cell_type": "markdown",
   "id": "5a1a3cdd",
   "metadata": {},
   "source": [
    "Assign a multiline string using triple quotes to a variable and print it."
   ]
  },
  {
   "cell_type": "code",
   "execution_count": 29,
   "id": "228bd297",
   "metadata": {},
   "outputs": [
    {
     "name": "stdout",
     "output_type": "stream",
     "text": [
      "This is a\n",
      "multiline string\n",
      "example.\n"
     ]
    }
   ],
   "source": [
    "text = \"\"\"This is a\n",
    "multiline string\n",
    "example.\"\"\"\n",
    "print(text)"
   ]
  },
  {
   "cell_type": "markdown",
   "id": "4acbabf0",
   "metadata": {},
   "source": [
    "##  String Formatting "
   ]
  },
  {
   "cell_type": "markdown",
   "id": "7473644b",
   "metadata": {},
   "source": [
    "Given:\n",
    "```python\n",
    "name = \"Alice\"\n",
    "age = 30\n",
    "```\n",
    "Print: `\"My name is Alice and I am 30 years old.\"` using:\n",
    "- The `+` operator  \n",
    "- The `format()` method  \n",
    "- An f-string"
   ]
  },
  {
   "cell_type": "code",
   "execution_count": 31,
   "id": "bdbec8e7",
   "metadata": {},
   "outputs": [
    {
     "name": "stdout",
     "output_type": "stream",
     "text": [
      "My name is Alice and I am 30 years old.\n",
      "My name is Alice and I am 30 years old.\n",
      "My name is Alice and I am 30 years old.\n"
     ]
    }
   ],
   "source": [
    "name = \"Alice\"\n",
    "age = 30\n",
    "\n",
    "print(\"My name is \" + name + \" and I am \" + str(age) + \" years old.\")\n",
    "print(\"My name is {} and I am {} years old.\".format(name, age))\n",
    "print(f\"My name is {name} and I am {age} years old.\")"
   ]
  },
  {
   "cell_type": "markdown",
   "id": "509d132a",
   "metadata": {},
   "source": [
    "## String Indexing"
   ]
  },
  {
   "cell_type": "markdown",
   "id": "3eb125f2",
   "metadata": {},
   "source": [
    "Print the first and last character of the string `\"Hello\"`."
   ]
  },
  {
   "cell_type": "code",
   "execution_count": 34,
   "id": "592863c1",
   "metadata": {},
   "outputs": [
    {
     "name": "stdout",
     "output_type": "stream",
     "text": [
      "H\n",
      "o\n"
     ]
    }
   ],
   "source": [
    "s = \"Hello\"\n",
    "print(s[0])   # First character\n",
    "print(s[-1])  # Last character"
   ]
  }
 ],
 "metadata": {
  "kernelspec": {
   "display_name": "Python 3 (ipykernel)",
   "language": "python",
   "name": "python3"
  },
  "language_info": {
   "codemirror_mode": {
    "name": "ipython",
    "version": 3
   },
   "file_extension": ".py",
   "mimetype": "text/x-python",
   "name": "python",
   "nbconvert_exporter": "python",
   "pygments_lexer": "ipython3",
   "version": "3.11.5"
  }
 },
 "nbformat": 4,
 "nbformat_minor": 5
}

{
 "cells": [
  {
   "cell_type": "markdown",
   "id": "8581e80a",
   "metadata": {},
   "source": [
    "## Arithmetic Operators"
   ]
  },
  {
   "cell_type": "markdown",
   "id": "3c784f87",
   "metadata": {},
   "source": [
    "Create two variables:\n",
    "```python\n",
    "a = 12  \n",
    "b = 5\n",
    "```\n",
    "Perform and print the result of:\n",
    "- Addition\n",
    "- Subtraction\n",
    "- Multiplication\n",
    "- Division\n",
    "- Modulus\n",
    "- Exponentiation\n",
    "- Floor Division"
   ]
  },
  {
   "cell_type": "code",
   "execution_count": 1,
   "id": "2710d448",
   "metadata": {
    "vscode": {
     "languageId": "plaintext"
    }
   },
   "outputs": [
    {
     "name": "stdout",
     "output_type": "stream",
     "text": [
      "17\n",
      "7\n",
      "60\n",
      "2.4\n",
      "2\n",
      "248832\n",
      "2\n"
     ]
    }
   ],
   "source": [
    "a = 12\n",
    "b = 5\n",
    "\n",
    "print(a + b)\n",
    "print(a - b)\n",
    "print(a * b)\n",
    "print(a / b)\n",
    "print(a % b)\n",
    "print(a ** b)\n",
    "print(a // b)"
   ]
  },
  {
   "cell_type": "markdown",
   "id": "51ab04f7",
   "metadata": {},
   "source": [
    "## Assignment Operators"
   ]
  },
  {
   "cell_type": "markdown",
   "id": "fcc473b8",
   "metadata": {},
   "source": [
    "Start with:\n",
    "```python\n",
    "x = 10\n",
    "```\n",
    "Use assignment operators to:\n",
    "- Add 5 to `x`\n",
    "- Subtract 3 from `x`\n",
    "- Multiply `x` by 2\n",
    "- Divide `x` by 4\n",
    "\n",
    "Print `x` after each step."
   ]
  },
  {
   "cell_type": "code",
   "execution_count": 2,
   "id": "8fa902ea",
   "metadata": {
    "vscode": {
     "languageId": "plaintext"
    }
   },
   "outputs": [
    {
     "name": "stdout",
     "output_type": "stream",
     "text": [
      "15\n",
      "12\n",
      "24\n",
      "6.0\n"
     ]
    }
   ],
   "source": [
    "x = 10\n",
    "\n",
    "x += 5\n",
    "print(x)\n",
    "\n",
    "x -= 3\n",
    "print(x)\n",
    "\n",
    "x *= 2\n",
    "print(x)\n",
    "\n",
    "x /= 4\n",
    "print(x)"
   ]
  },
  {
   "cell_type": "markdown",
   "id": "8a9e286c",
   "metadata": {},
   "source": [
    "## Comparison and Logical Operators"
   ]
  },
  {
   "cell_type": "markdown",
   "id": "1aa9b137",
   "metadata": {},
   "source": [
    "Create two variables:\n",
    "```python\n",
    "x = 8  \n",
    "y = 12\n",
    "```\n",
    "Use comparison operators to check and print whether:\n",
    "- `x` is equal to `y`\n",
    "- `x` is not equal to `y`\n",
    "- `x` is greater than `y`\n",
    "- `x` is less than or equal to `y`"
   ]
  },
  {
   "cell_type": "code",
   "execution_count": 3,
   "id": "7d88f064",
   "metadata": {
    "vscode": {
     "languageId": "plaintext"
    }
   },
   "outputs": [
    {
     "name": "stdout",
     "output_type": "stream",
     "text": [
      "False\n",
      "True\n",
      "False\n",
      "True\n"
     ]
    }
   ],
   "source": [
    "x = 8\n",
    "y = 12\n",
    "\n",
    "print(x == y)\n",
    "print(x != y)\n",
    "print(x > y)\n",
    "print(x <= y)"
   ]
  },
  {
   "cell_type": "markdown",
   "id": "e28d6265",
   "metadata": {},
   "source": [
    "Use logical operators with the same `x` and `y`:\n",
    "- Check if `x` is less than 10 **and** `y` is greater than 10  \n",
    "- Check if `x` is greater than 10 **or** `y` is greater than 10  \n",
    "- Check if `not(x == y)`"
   ]
  },
  {
   "cell_type": "code",
   "execution_count": 4,
   "id": "a20981ba",
   "metadata": {
    "vscode": {
     "languageId": "plaintext"
    }
   },
   "outputs": [
    {
     "name": "stdout",
     "output_type": "stream",
     "text": [
      "True\n",
      "True\n",
      "True\n"
     ]
    }
   ],
   "source": [
    "print(x < 10 and y > 10)\n",
    "print(x > 10 or y > 10)\n",
    "print(not (x == y))"
   ]
  },
  {
   "cell_type": "markdown",
   "id": "c73c6932",
   "metadata": {},
   "source": [
    "## Identity Operators"
   ]
  },
  {
   "cell_type": "markdown",
   "id": "535d404a",
   "metadata": {},
   "source": [
    "```python\n",
    "a = [1, 2, 3]  \n",
    "b = a  \n",
    "c = [1, 2, 3]\n",
    "```\n",
    "Check and print:\n",
    "- `a is b`\n",
    "- `a is c`\n",
    "- `a == c`\n",
    "- `a is not c`"
   ]
  },
  {
   "cell_type": "code",
   "execution_count": 5,
   "id": "def2b2ce",
   "metadata": {
    "vscode": {
     "languageId": "plaintext"
    }
   },
   "outputs": [
    {
     "name": "stdout",
     "output_type": "stream",
     "text": [
      "True\n",
      "False\n",
      "True\n",
      "True\n"
     ]
    }
   ],
   "source": [
    "a = [1, 2, 3]\n",
    "b = a\n",
    "c = [1, 2, 3]\n",
    "\n",
    "print(a is b)\n",
    "print(a is c)\n",
    "print(a == c)\n",
    "print(a is not c)"
   ]
  },
  {
   "cell_type": "markdown",
   "id": "10f2aa9b",
   "metadata": {},
   "source": [
    "## Operator Precedence"
   ]
  },
  {
   "cell_type": "markdown",
   "id": "416792d2",
   "metadata": {},
   "source": [
    "Write and evaluate:\n",
    "```python\n",
    "print(5 + 2 * 3)\n",
    "print((5 + 2) * 3)\n",
    "print(2 ** 3 ** 2)\n",
    "```"
   ]
  },
  {
   "cell_type": "code",
   "execution_count": 6,
   "id": "af7eaa1a",
   "metadata": {
    "vscode": {
     "languageId": "plaintext"
    }
   },
   "outputs": [
    {
     "name": "stdout",
     "output_type": "stream",
     "text": [
      "11\n",
      "21\n",
      "512\n"
     ]
    }
   ],
   "source": [
    "print(5 + 2 * 3)\n",
    "print((5 + 2) * 3)\n",
    "print(2 ** 3 ** 2)"
   ]
  },
  {
   "cell_type": "markdown",
   "id": "d756393f",
   "metadata": {},
   "source": [
    "## User Input"
   ]
  },
  {
   "cell_type": "markdown",
   "id": "2cbe1d7c",
   "metadata": {},
   "source": [
    "Ask the user for their name using `input()` and greet them."
   ]
  },
  {
   "cell_type": "code",
   "execution_count": null,
   "id": "d19a0243",
   "metadata": {},
   "outputs": [],
   "source": [
    "name = input(\"Enter your name: \")\n",
    "print(\"Hello, \" + name + \"!\")"
   ]
  },
  {
   "cell_type": "markdown",
   "id": "22923c22",
   "metadata": {},
   "source": [
    "Ask the user for:\n",
    "- Their favorite animal\n",
    "- Their favorite color\n",
    "- A number\n",
    "\n",
    "Then print a sentence like:  \n",
    "`Do you want a blue tiger with 7 legs?`"
   ]
  },
  {
   "cell_type": "code",
   "execution_count": null,
   "id": "021867e9",
   "metadata": {
    "vscode": {
     "languageId": "plaintext"
    }
   },
   "outputs": [],
   "source": [
    "animal = input(\"What is your favorite animal? \")\n",
    "color = input(\"What is your favorite color? \")\n",
    "number = input(\"Give me a number: \")\n",
    "\n",
    "print(f\"Do you want a {color} {animal} with {number} legs?\")"
   ]
  }
 ],
 "metadata": {
  "kernelspec": {
   "display_name": "Python 3 (ipykernel)",
   "language": "python",
   "name": "python3"
  },
  "language_info": {
   "codemirror_mode": {
    "name": "ipython",
    "version": 3
   },
   "file_extension": ".py",
   "mimetype": "text/x-python",
   "name": "python",
   "nbconvert_exporter": "python",
   "pygments_lexer": "ipython3",
   "version": "3.11.5"
  }
 },
 "nbformat": 4,
 "nbformat_minor": 5
}

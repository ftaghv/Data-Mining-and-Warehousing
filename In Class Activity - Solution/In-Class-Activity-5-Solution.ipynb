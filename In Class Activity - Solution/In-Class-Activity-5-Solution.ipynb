{
 "cells": [
  {
   "cell_type": "markdown",
   "id": "70e52dd2",
   "metadata": {},
   "source": [
    "## Creating and Calling Functions"
   ]
  },
  {
   "cell_type": "markdown",
   "id": "9c326841",
   "metadata": {},
   "source": [
    "Write a function called `greet()` that prints:  \n",
    "`\"Hello, welcome to class!\"`  \n",
    "Call the function."
   ]
  },
  {
   "cell_type": "code",
   "execution_count": 1,
   "id": "632f8a4f",
   "metadata": {
    "vscode": {
     "languageId": "plaintext"
    }
   },
   "outputs": [
    {
     "name": "stdout",
     "output_type": "stream",
     "text": [
      "Hello, welcome to class!\n"
     ]
    }
   ],
   "source": [
    "def greet():\n",
    "    print(\"Hello, welcome to class!\")\n",
    "\n",
    "greet()"
   ]
  },
  {
   "cell_type": "markdown",
   "id": "4ffa4750",
   "metadata": {},
   "source": [
    "## Function with One Parameter"
   ]
  },
  {
   "cell_type": "markdown",
   "id": "a18b2745",
   "metadata": {},
   "source": [
    "Write a function called `say_hello(name)` that prints:  \n",
    "`\"Hello, [name]!\"`  \n",
    "Call it 3 times with different names."
   ]
  },
  {
   "cell_type": "code",
   "execution_count": 2,
   "id": "815e7d75",
   "metadata": {
    "vscode": {
     "languageId": "plaintext"
    }
   },
   "outputs": [
    {
     "name": "stdout",
     "output_type": "stream",
     "text": [
      "Hello, Alice!\n",
      "Hello, Bob!\n",
      "Hello, Charlie!\n"
     ]
    }
   ],
   "source": [
    "def say_hello(name):\n",
    "    print(f\"Hello, {name}!\")\n",
    "\n",
    "say_hello(\"Alice\")\n",
    "say_hello(\"Bob\")\n",
    "say_hello(\"Charlie\")"
   ]
  },
  {
   "cell_type": "markdown",
   "id": "9fda08c3",
   "metadata": {},
   "source": [
    "## Function with Two Parameters"
   ]
  },
  {
   "cell_type": "markdown",
   "id": "c82fe93a",
   "metadata": {},
   "source": [
    "Write a function called `print_full_name(first, last)` that prints the full name on one line.  \n",
    "Example: `\"John Smith\"`  \n",
    "Call it with your own name and a friend’s name."
   ]
  },
  {
   "cell_type": "code",
   "execution_count": 3,
   "id": "99cbcf39",
   "metadata": {
    "vscode": {
     "languageId": "plaintext"
    }
   },
   "outputs": [
    {
     "name": "stdout",
     "output_type": "stream",
     "text": [
      "Fatemeh Taghvaei\n",
      "John Doe\n"
     ]
    }
   ],
   "source": [
    "def print_full_name(first, last):\n",
    "    print(first + \" \" + last)\n",
    "\n",
    "print_full_name(\"Fatemeh\", \"Taghvaei\")\n",
    "print_full_name(\"John\", \"Doe\")"
   ]
  },
  {
   "cell_type": "markdown",
   "id": "a7844460",
   "metadata": {},
   "source": [
    "## Default Parameter Value"
   ]
  },
  {
   "cell_type": "markdown",
   "id": "6b093eda",
   "metadata": {},
   "source": [
    "Write a function called `show_country(country=\"USA\")` that prints:  \n",
    "`\"You are from [country]\"`  \n",
    "Call it 3 times:\n",
    "- With \"Canada\"\n",
    "- With \"India\"\n",
    "- With no argument (to use the default)"
   ]
  },
  {
   "cell_type": "code",
   "execution_count": 4,
   "id": "6b9653c6",
   "metadata": {
    "vscode": {
     "languageId": "plaintext"
    }
   },
   "outputs": [
    {
     "name": "stdout",
     "output_type": "stream",
     "text": [
      "You are from Canada\n",
      "You are from India\n",
      "You are from USA\n"
     ]
    }
   ],
   "source": [
    "def show_country(country=\"USA\"):\n",
    "    print(f\"You are from {country}\")\n",
    "\n",
    "show_country(\"Canada\")\n",
    "show_country(\"India\")\n",
    "show_country()"
   ]
  },
  {
   "cell_type": "markdown",
   "id": "165f126a",
   "metadata": {},
   "source": [
    "## Return Value"
   ]
  },
  {
   "cell_type": "markdown",
   "id": "f72237d9",
   "metadata": {},
   "source": [
    "Write a function called `times_five(x)` that returns the value of `x * 5`.  \n",
    "Call the function with the value `3`, and print the result."
   ]
  },
  {
   "cell_type": "code",
   "execution_count": 5,
   "id": "e0c244f2",
   "metadata": {
    "vscode": {
     "languageId": "plaintext"
    }
   },
   "outputs": [
    {
     "name": "stdout",
     "output_type": "stream",
     "text": [
      "15\n"
     ]
    }
   ],
   "source": [
    "def times_five(x):\n",
    "    return x * 5\n",
    "\n",
    "print(times_five(3))"
   ]
  }
 ],
 "metadata": {
  "kernelspec": {
   "display_name": "Python 3 (ipykernel)",
   "language": "python",
   "name": "python3"
  },
  "language_info": {
   "codemirror_mode": {
    "name": "ipython",
    "version": 3
   },
   "file_extension": ".py",
   "mimetype": "text/x-python",
   "name": "python",
   "nbconvert_exporter": "python",
   "pygments_lexer": "ipython3",
   "version": "3.11.5"
  }
 },
 "nbformat": 4,
 "nbformat_minor": 5
}

{
 "cells": [
  {
   "cell_type": "markdown",
   "id": "1221a0e9",
   "metadata": {},
   "source": [
    "# List"
   ]
  },
  {
   "cell_type": "markdown",
   "id": "8cf5ac50",
   "metadata": {},
   "source": [
    "## Create and Access"
   ]
  },
  {
   "cell_type": "markdown",
   "id": "91c090cf",
   "metadata": {},
   "source": [
    "- Create a list called `fruits` containing `\"apple\"`, `\"banana\"`, `\"cherry\"`, and `\"banana\"`.\n",
    "- Print the second item.\n",
    "- Print the length of the list."
   ]
  },
  {
   "cell_type": "code",
   "execution_count": 1,
   "id": "23d59ae1",
   "metadata": {
    "vscode": {
     "languageId": "plaintext"
    }
   },
   "outputs": [
    {
     "name": "stdout",
     "output_type": "stream",
     "text": [
      "banana\n",
      "4\n"
     ]
    }
   ],
   "source": [
    "fruits = [\"apple\", \"banana\", \"cherry\", \"banana\"]\n",
    "print(fruits[1])\n",
    "print(len(fruits))"
   ]
  },
  {
   "cell_type": "markdown",
   "id": "67203ad2",
   "metadata": {},
   "source": [
    "## Modify and Extend"
   ]
  },
  {
   "cell_type": "markdown",
   "id": "6813752d",
   "metadata": {},
   "source": [
    "- Insert `\"orange\"` at index 2.\n",
    "- Append `\"grape\"` to the list.\n",
    "- Extend the list using another list: `[\"kiwi\", \"melon\"]`."
   ]
  },
  {
   "cell_type": "code",
   "execution_count": 2,
   "id": "fbca7c64",
   "metadata": {
    "vscode": {
     "languageId": "plaintext"
    }
   },
   "outputs": [],
   "source": [
    "fruits.insert(2, \"orange\")\n",
    "fruits.append(\"grape\")\n",
    "fruits.extend([\"kiwi\", \"melon\"])"
   ]
  },
  {
   "cell_type": "code",
   "execution_count": 3,
   "id": "2a88d75d",
   "metadata": {},
   "outputs": [
    {
     "data": {
      "text/plain": [
       "['apple', 'banana', 'orange', 'cherry', 'banana', 'grape', 'kiwi', 'melon']"
      ]
     },
     "execution_count": 3,
     "metadata": {},
     "output_type": "execute_result"
    }
   ],
   "source": [
    "fruits"
   ]
  },
  {
   "cell_type": "markdown",
   "id": "ff7e2310",
   "metadata": {},
   "source": [
    "## Remove and Loop"
   ]
  },
  {
   "cell_type": "markdown",
   "id": "2e7e231a",
   "metadata": {},
   "source": [
    "- Remove the second `\"banana\"` using `.remove()`.\n",
    "- Remove the item at index 0 using `.pop()`.\n",
    "- Loop through the list and print each fruit."
   ]
  },
  {
   "cell_type": "code",
   "execution_count": 4,
   "id": "7f3cfdcb",
   "metadata": {
    "vscode": {
     "languageId": "plaintext"
    }
   },
   "outputs": [
    {
     "name": "stdout",
     "output_type": "stream",
     "text": [
      "orange\n",
      "cherry\n",
      "banana\n",
      "grape\n",
      "kiwi\n",
      "melon\n"
     ]
    }
   ],
   "source": [
    "fruits.remove(\"banana\")\n",
    "fruits.pop(0)\n",
    "for fruit in fruits:\n",
    "    print(fruit)"
   ]
  },
  {
   "cell_type": "markdown",
   "id": "8e9876d7",
   "metadata": {},
   "source": [
    "## Comprehension and Sorting"
   ]
  },
  {
   "cell_type": "markdown",
   "id": "3b2f6a32",
   "metadata": {},
   "source": [
    "- Create a new list `short_fruits` that includes only fruits with less than 6 letters using list comprehension.\n",
    "- Sort the list alphabetically, then in reverse."
   ]
  },
  {
   "cell_type": "code",
   "execution_count": 5,
   "id": "6b07ccaf",
   "metadata": {
    "vscode": {
     "languageId": "plaintext"
    }
   },
   "outputs": [],
   "source": [
    "short_fruits = [fruit for fruit in fruits if len(fruit) < 6]\n",
    "short_fruits.sort()\n",
    "short_fruits.sort(reverse=True)"
   ]
  },
  {
   "cell_type": "code",
   "execution_count": 6,
   "id": "292ffbe8",
   "metadata": {},
   "outputs": [
    {
     "data": {
      "text/plain": [
       "['melon', 'kiwi', 'grape']"
      ]
     },
     "execution_count": 6,
     "metadata": {},
     "output_type": "execute_result"
    }
   ],
   "source": [
    "short_fruits"
   ]
  },
  {
   "cell_type": "markdown",
   "id": "986d423d",
   "metadata": {},
   "source": [
    "# Bookstore Sales Analysis\n",
    " \n",
    "You manage an online bookstore. You have a list of book prices for one day’s sales. \\\n",
    "Write a Python program that takes a list of book prices as input and calculates these values.\n",
    "\n",
    "- The total revenue from the sales.\n",
    "- The most expensive book sold.\n",
    "- The number of books sold priced above $20.\n",
    "- The average price of all books sold."
   ]
  },
  {
   "cell_type": "code",
   "execution_count": 7,
   "id": "ddb2f447",
   "metadata": {},
   "outputs": [
    {
     "name": "stdout",
     "output_type": "stream",
     "text": [
      "Total sales: 145.21\n",
      "Highest price: 45.0\n",
      "Books over $20: 3\n",
      "Average price: 20.744285714285716\n"
     ]
    }
   ],
   "source": [
    "prices = [15.99, 22.50, 9.99, 45.00, 12.75, 29.99, 8.99]\n",
    "\n",
    "total_sales = 0\n",
    "highest_price = 0\n",
    "books_over_20 = 0\n",
    "\n",
    "for price in prices:\n",
    "    total_sales += price\n",
    "    if price > highest_price:\n",
    "        highest_price = price\n",
    "    if price > 20:\n",
    "        books_over_20 += 1\n",
    "\n",
    "average_price = total_sales / len(prices)\n",
    "\n",
    "print(\"Total sales:\", total_sales)\n",
    "print(\"Highest price:\", highest_price)\n",
    "print(\"Books over $20:\", books_over_20)\n",
    "print(\"Average price:\", average_price)"
   ]
  },
  {
   "cell_type": "markdown",
   "id": "bcd5fea8",
   "metadata": {},
   "source": [
    "# Tuples"
   ]
  },
  {
   "cell_type": "markdown",
   "id": "0430dd18",
   "metadata": {},
   "source": [
    "## Create and Access"
   ]
  },
  {
   "cell_type": "markdown",
   "id": "e610ba05",
   "metadata": {},
   "source": [
    "- Create a tuple `colors` with elements: `\"red\"`, `\"green\"`, `\"blue\"`, `\"red\"`.\n",
    "- Print the item at index 1.\n",
    "- Print the length of the tuple."
   ]
  },
  {
   "cell_type": "code",
   "execution_count": 8,
   "id": "14f6c627",
   "metadata": {
    "vscode": {
     "languageId": "plaintext"
    }
   },
   "outputs": [
    {
     "name": "stdout",
     "output_type": "stream",
     "text": [
      "green\n",
      "4\n"
     ]
    }
   ],
   "source": [
    "colors = (\"red\", \"green\", \"blue\", \"red\")\n",
    "print(colors[1])\n",
    "print(len(colors))"
   ]
  },
  {
   "cell_type": "markdown",
   "id": "e5824457",
   "metadata": {},
   "source": [
    "## Conversion and Modification"
   ]
  },
  {
   "cell_type": "markdown",
   "id": "76fe909a",
   "metadata": {},
   "source": [
    "- Convert the tuple to a list, change `\"green\"` to `\"yellow\"`, then convert it back to a tuple.\n",
    "- Add a new item `\"purple\"` by converting and appending.\n",
    "- Remove `\"red\"` from the modified tuple."
   ]
  },
  {
   "cell_type": "code",
   "execution_count": 9,
   "id": "778b5b5f",
   "metadata": {
    "vscode": {
     "languageId": "plaintext"
    }
   },
   "outputs": [],
   "source": [
    "colors_list = list(colors)\n",
    "colors_list[colors_list.index(\"green\")] = \"yellow\"\n",
    "colors = tuple(colors_list)\n",
    "\n",
    "colors_list = list(colors)\n",
    "colors_list.append(\"purple\")\n",
    "colors = tuple(colors_list)\n",
    "\n",
    "colors_list = list(colors)\n",
    "colors_list.remove(\"red\")\n",
    "colors = tuple(colors_list)"
   ]
  },
  {
   "cell_type": "markdown",
   "id": "14b37548",
   "metadata": {},
   "source": [
    "## Looping"
   ]
  },
  {
   "cell_type": "markdown",
   "id": "c42f6b39",
   "metadata": {},
   "source": [
    "Loop through the final tuple and print each color."
   ]
  },
  {
   "cell_type": "code",
   "execution_count": 10,
   "id": "5fce715e",
   "metadata": {
    "vscode": {
     "languageId": "plaintext"
    }
   },
   "outputs": [
    {
     "name": "stdout",
     "output_type": "stream",
     "text": [
      "yellow\n",
      "blue\n",
      "red\n",
      "purple\n"
     ]
    }
   ],
   "source": [
    "for color in colors:\n",
    "    print(color)"
   ]
  },
  {
   "cell_type": "markdown",
   "id": "52a8ec80",
   "metadata": {},
   "source": [
    "# Student Grades Tracker Using Tuples\n",
    "\n",
    "You are managing a small class gradebook. Each student’s record is stored as a tuple containing:\n",
    "\n",
    "- Student name (string)  \n",
    "- Student ID (integer)  \n",
    "- Final exam score (integer)\n",
    "\n",
    "You have a list of such student tuples for the class. Your tasks are to:\n",
    "\n",
    "- Print each student's name and score.  \n",
    "- Find the highest score in the class.  \n",
    "- Find the student(s) who scored the highest.  "
   ]
  },
  {
   "cell_type": "code",
   "execution_count": 11,
   "id": "a60581b1",
   "metadata": {},
   "outputs": [
    {
     "name": "stdout",
     "output_type": "stream",
     "text": [
      "Alice scored 88\n",
      "Bob scored 95\n",
      "Charlie scored 95\n",
      "David scored 82\n",
      "Highest score: 95\n",
      "Top scorer(s): Bob, Charlie\n"
     ]
    }
   ],
   "source": [
    "students = [\n",
    "    (\"Alice\", 101, 88),\n",
    "    (\"Bob\", 102, 95),\n",
    "    (\"Charlie\", 103, 95),\n",
    "    (\"David\", 104, 82)\n",
    "]\n",
    "\n",
    "highest = 0\n",
    "top_students = []\n",
    "\n",
    "for s in students:\n",
    "    print(s[0], \"scored\", s[2])\n",
    "    if s[2] > highest:\n",
    "        highest = s[2]\n",
    "\n",
    "for s in students:\n",
    "    if s[2] == highest:\n",
    "        top_students.append(s[0])\n",
    "\n",
    "print(\"Highest score:\", highest)\n",
    "print(\"Top scorer(s):\", \", \".join(top_students))"
   ]
  }
 ],
 "metadata": {
  "kernelspec": {
   "display_name": "Python 3 (ipykernel)",
   "language": "python",
   "name": "python3"
  },
  "language_info": {
   "codemirror_mode": {
    "name": "ipython",
    "version": 3
   },
   "file_extension": ".py",
   "mimetype": "text/x-python",
   "name": "python",
   "nbconvert_exporter": "python",
   "pygments_lexer": "ipython3",
   "version": "3.11.5"
  }
 },
 "nbformat": 4,
 "nbformat_minor": 5
}

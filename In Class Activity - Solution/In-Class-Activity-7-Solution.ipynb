{
 "cells": [
  {
   "cell_type": "markdown",
   "id": "33c6d4af",
   "metadata": {},
   "source": [
    "# Sets"
   ]
  },
  {
   "cell_type": "markdown",
   "id": "39d7859d",
   "metadata": {},
   "source": [
    "## Create and Properties"
   ]
  },
  {
   "cell_type": "markdown",
   "id": "6d0c8b61",
   "metadata": {},
   "source": [
    "- Create a set `unique_numbers` with values: `1, 2, 3, 4, 1, 2`.\n",
    "- Print the set and explain what happened to the duplicates.\n",
    "- Check if `3` is in the set."
   ]
  },
  {
   "cell_type": "code",
   "execution_count": 1,
   "id": "05a289ba",
   "metadata": {
    "vscode": {
     "languageId": "plaintext"
    }
   },
   "outputs": [
    {
     "name": "stdout",
     "output_type": "stream",
     "text": [
      "{1, 2, 3, 4}\n",
      "True\n"
     ]
    }
   ],
   "source": [
    "unique_numbers = {1, 2, 3, 4, 1, 2}\n",
    "print(unique_numbers)\n",
    "print(3 in unique_numbers)"
   ]
  },
  {
   "cell_type": "markdown",
   "id": "e75e7d35",
   "metadata": {},
   "source": [
    "## Modification"
   ]
  },
  {
   "cell_type": "markdown",
   "id": "420ab824",
   "metadata": {},
   "source": [
    "- Add `5` to the set using `.add()`.\n",
    "- Update the set with another set `{6, 7, 8}`.\n",
    "- Remove an item using `.discard()`."
   ]
  },
  {
   "cell_type": "code",
   "execution_count": 3,
   "id": "86e7b514",
   "metadata": {
    "vscode": {
     "languageId": "plaintext"
    }
   },
   "outputs": [
    {
     "name": "stdout",
     "output_type": "stream",
     "text": [
      "{1, 3, 4, 5, 6, 7, 8}\n"
     ]
    }
   ],
   "source": [
    "unique_numbers.add(5)\n",
    "unique_numbers.update({6, 7, 8})\n",
    "unique_numbers.discard(2)\n",
    "print(unique_numbers)"
   ]
  },
  {
   "cell_type": "markdown",
   "id": "82b4bf40",
   "metadata": {},
   "source": [
    "## Loop"
   ]
  },
  {
   "cell_type": "markdown",
   "id": "3f5af1fe",
   "metadata": {},
   "source": [
    "- Loop through the set and print each item."
   ]
  },
  {
   "cell_type": "code",
   "execution_count": 4,
   "id": "55f63e6e",
   "metadata": {
    "vscode": {
     "languageId": "plaintext"
    }
   },
   "outputs": [
    {
     "name": "stdout",
     "output_type": "stream",
     "text": [
      "1\n",
      "3\n",
      "4\n",
      "5\n",
      "6\n",
      "7\n",
      "8\n"
     ]
    }
   ],
   "source": [
    "for number in unique_numbers:\n",
    "    print(number)"
   ]
  },
  {
   "cell_type": "markdown",
   "id": "af4d92f3",
   "metadata": {},
   "source": [
    "# Dictionaries"
   ]
  },
  {
   "cell_type": "markdown",
   "id": "70e44bf5",
   "metadata": {},
   "source": [
    "## Create and Access"
   ]
  },
  {
   "cell_type": "markdown",
   "id": "3a902bcb",
   "metadata": {},
   "source": [
    "- Create a dictionary `student` with keys: `\"name\"`, `\"age\"`, `\"major\"` and appropriate values.\n",
    "- Access and print the `\"major\"` using both `[]` and `.get()`."
   ]
  },
  {
   "cell_type": "code",
   "execution_count": 5,
   "id": "63caf934",
   "metadata": {
    "vscode": {
     "languageId": "plaintext"
    }
   },
   "outputs": [
    {
     "name": "stdout",
     "output_type": "stream",
     "text": [
      "Computer Science\n",
      "Computer Science\n"
     ]
    }
   ],
   "source": [
    "student = {\"name\": \"Alice\", \n",
    "           \"age\": 20, \n",
    "           \"major\": \"Computer Science\"\n",
    "          }\n",
    "\n",
    "print(student[\"major\"])\n",
    "print(student.get(\"major\"))"
   ]
  },
  {
   "cell_type": "markdown",
   "id": "493ffb1b",
   "metadata": {},
   "source": [
    "## Modification"
   ]
  },
  {
   "cell_type": "markdown",
   "id": "0edd3ad9",
   "metadata": {},
   "source": [
    "- Change the `\"age\"` to a new value.\n",
    "- Add a new key `\"graduated\"` with value `False`.\n",
    "- Update the `\"major\"` to `\"Computer Science\"` using `.update()`."
   ]
  },
  {
   "cell_type": "code",
   "execution_count": 6,
   "id": "fdc45b92",
   "metadata": {
    "vscode": {
     "languageId": "plaintext"
    }
   },
   "outputs": [],
   "source": [
    "student[\"age\"] = 21\n",
    "student[\"graduated\"] = False\n",
    "student.update({\"major\": \"Computer Science\"})"
   ]
  },
  {
   "cell_type": "markdown",
   "id": "984a47b7",
   "metadata": {},
   "source": [
    "## Loop"
   ]
  },
  {
   "cell_type": "markdown",
   "id": "7d9cecb6",
   "metadata": {},
   "source": [
    "- Print all keys.\n",
    "- Print all values.\n",
    "- Print both keys and values using `.items()`."
   ]
  },
  {
   "cell_type": "code",
   "execution_count": 9,
   "id": "d4a22267",
   "metadata": {},
   "outputs": [
    {
     "name": "stdout",
     "output_type": "stream",
     "text": [
      "dict_keys(['name', 'age', 'major', 'graduated'])\n",
      "dict_values(['Alice', 21, 'Computer Science', False])\n",
      "dict_items([('name', 'Alice'), ('age', 21), ('major', 'Computer Science'), ('graduated', False)])\n"
     ]
    }
   ],
   "source": [
    "print(student.keys())\n",
    "print(student.values())\n",
    "print(student.items())"
   ]
  },
  {
   "cell_type": "markdown",
   "id": "b6744456",
   "metadata": {
    "vscode": {
     "languageId": "plaintext"
    }
   },
   "source": [
    "# Grocery Store Inventory Using a Dictionary\n",
    "  \n",
    "You are managing a small grocery store. The inventory is stored in a dictionary where:\n",
    "\n",
    "- The **keys** are item names (e.g., `\"apple\"`, `\"banana\"`)  \n",
    "- The **values** are the number of items in stock\n",
    "\n",
    "1. Print each item and how many are in stock  \n",
    "2. Add a new item (`\"orange\": 25`) to the inventory  \n",
    "3. Update the quantity of `\"banana\"` to 40  \n",
    "4. Remove `\"apple\"` from the inventory  \n",
    "5. Print the total number of different items in stock"
   ]
  },
  {
   "cell_type": "code",
   "execution_count": 10,
   "id": "3c77fe18",
   "metadata": {},
   "outputs": [
    {
     "name": "stdout",
     "output_type": "stream",
     "text": [
      "apple : 30\n",
      "banana : 20\n",
      "milk : 10\n",
      "Total items in stock: 3\n"
     ]
    }
   ],
   "source": [
    "inventory = {\n",
    "    \"apple\": 30,\n",
    "    \"banana\": 20,\n",
    "    \"milk\": 10\n",
    "}\n",
    "\n",
    "for item, quantity in inventory.items():\n",
    "    print(item, \":\", quantity)\n",
    "\n",
    "inventory[\"orange\"] = 25\n",
    "inventory[\"banana\"] = 40\n",
    "del inventory[\"apple\"]\n",
    "\n",
    "print(\"Total items in stock:\", len(inventory))"
   ]
  },
  {
   "cell_type": "markdown",
   "id": "e0f35349",
   "metadata": {},
   "source": [
    "# Online Store: Order Summary with Dictionaries\n",
    " \n",
    "You are working as a junior developer for an online store.  \n",
    "The store keeps track of customer orders using Python dictionaries.\n",
    "\n",
    "Each **order** is stored in a dictionary where:  \n",
    "- The **key** is the product name (`str`)  \n",
    "- The **value** is the quantity ordered (`int`)\n",
    "\n",
    "Here is one customer’s order:\n",
    "\n",
    "```python\n",
    "order = {\n",
    "    \"laptop\": 1,\n",
    "    \"mouse\": 2,\n",
    "    \"USB cable\": 3\n",
    "}\n",
    "```\n",
    "\n",
    "1. Print each product and how many were ordered.\n",
    "\n",
    "2. Add \"keyboard\" with quantity 1 to the order.\n",
    "\n",
    "3. Update the \"mouse\" quantity to 1.\n",
    "\n",
    "4. Remove the \"USB cable\" from the order.\n",
    "\n",
    "5. Print the total number of items in the order (sum of all quantities)."
   ]
  },
  {
   "cell_type": "code",
   "execution_count": 18,
   "id": "6b9689f4",
   "metadata": {},
   "outputs": [
    {
     "name": "stdout",
     "output_type": "stream",
     "text": [
      "laptop 1\n",
      "mouse 2\n",
      "USB cable 3\n",
      "Total items: 3\n"
     ]
    }
   ],
   "source": [
    "order = {\n",
    "    \"laptop\": 1,\n",
    "    \"mouse\": 2,\n",
    "    \"USB cable\": 3\n",
    "}\n",
    "\n",
    "for product, quantity in order.items():\n",
    "    print(product, quantity)\n",
    "\n",
    "order[\"keyboard\"] = 1\n",
    "order[\"mouse\"] = 1\n",
    "order.pop(\"USB cable\")\n",
    "\n",
    "total_items = sum(order.values())\n",
    "print(\"Total items:\", total_items)"
   ]
  }
 ],
 "metadata": {
  "kernelspec": {
   "display_name": "Python 3 (ipykernel)",
   "language": "python",
   "name": "python3"
  },
  "language_info": {
   "codemirror_mode": {
    "name": "ipython",
    "version": 3
   },
   "file_extension": ".py",
   "mimetype": "text/x-python",
   "name": "python",
   "nbconvert_exporter": "python",
   "pygments_lexer": "ipython3",
   "version": "3.11.5"
  }
 },
 "nbformat": 4,
 "nbformat_minor": 5
}

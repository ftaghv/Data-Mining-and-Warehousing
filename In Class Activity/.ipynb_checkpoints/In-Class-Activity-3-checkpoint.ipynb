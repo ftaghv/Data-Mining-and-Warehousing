{
 "cells": [
  {
   "cell_type": "markdown",
   "id": "6d6a5438",
   "metadata": {},
   "source": [
    "## Basic If Statements"
   ]
  },
  {
   "cell_type": "markdown",
   "id": "e1f9a283",
   "metadata": {},
   "source": [
    "Write a program that asks the user to input two numbers. Print which one is greater, or if they are equal."
   ]
  },
  {
   "cell_type": "code",
   "execution_count": null,
   "id": "3bad8f0b",
   "metadata": {},
   "outputs": [],
   "source": []
  },
  {
   "cell_type": "markdown",
   "id": "f83e2782",
   "metadata": {},
   "source": [
    "## If-Elif-Else"
   ]
  },
  {
   "cell_type": "markdown",
   "id": "4d481561",
   "metadata": {},
   "source": [
    "Ask the user to input a number between 0 and 100. Based on the value, print their grade:\n",
    "- A: 90–100  \n",
    "- B: 80–89  \n",
    "- C: 70–79  \n",
    "- D: 60–69  \n",
    "- F: below 60  \n",
    "\n",
    "Use `if`, `elif`, and `else`."
   ]
  },
  {
   "cell_type": "code",
   "execution_count": null,
   "id": "655af17b",
   "metadata": {},
   "outputs": [],
   "source": []
  },
  {
   "cell_type": "markdown",
   "id": "fbb765c6",
   "metadata": {},
   "source": [
    "## Logical Operators"
   ]
  },
  {
   "cell_type": "markdown",
   "id": "2a9106d6",
   "metadata": {},
   "source": [
    "You are designing a game where players must meet both of the following conditions to enter the secret level:\n",
    "- They must have at least 100 coins  \n",
    "- They must have found the magic key\n",
    "\n",
    "Ask the user for:\n",
    "- Number of coins (as an integer)\n",
    "- Whether they have the magic key (`yes` or `no`)\n",
    "\n",
    "Then:\n",
    "- Print `\"Access granted to the secret level!\"` if both conditions are met.\n",
    "- Otherwise, print `\"Access denied. Keep playing!\"`"
   ]
  },
  {
   "cell_type": "code",
   "execution_count": null,
   "id": "3b21af71",
   "metadata": {},
   "outputs": [],
   "source": []
  },
  {
   "cell_type": "markdown",
   "id": "9e35e9c8",
   "metadata": {},
   "source": [
    "## Short Hand If-Else"
   ]
  },
  {
   "cell_type": "markdown",
   "id": "033d1ebc",
   "metadata": {},
   "source": [
    "Write a one-line `if-else` statement that prints `\"Even\"` if a number is even, and `\"Odd\"` if it's not. Use the `%` operator."
   ]
  },
  {
   "cell_type": "code",
   "execution_count": null,
   "id": "24d66b1a",
   "metadata": {},
   "outputs": [],
   "source": []
  },
  {
   "cell_type": "markdown",
   "id": "dd4147a5",
   "metadata": {},
   "source": [
    "## Nested If"
   ]
  },
  {
   "cell_type": "markdown",
   "id": "b92a3af6",
   "metadata": {},
   "source": [
    "Ask the user for their age.  \n",
    "If the age is greater than 0:\n",
    "- If under 12: print `\"Child ticket\"`  \n",
    "- If between 12 and 60: print `\"Adult ticket\"`  \n",
    "- If over 60: print `\"Senior ticket\"`  \n",
    "If the age is 0 or less, print `\"Invalid age\"`\n",
    "\n",
    "Use a **nested if** structure."
   ]
  },
  {
   "cell_type": "markdown",
   "id": "2cbc63c2",
   "metadata": {},
   "source": []
  }
 ],
 "metadata": {
  "kernelspec": {
   "display_name": "Python 3 (ipykernel)",
   "language": "python",
   "name": "python3"
  },
  "language_info": {
   "codemirror_mode": {
    "name": "ipython",
    "version": 3
   },
   "file_extension": ".py",
   "mimetype": "text/x-python",
   "name": "python",
   "nbconvert_exporter": "python",
   "pygments_lexer": "ipython3",
   "version": "3.11.5"
  }
 },
 "nbformat": 4,
 "nbformat_minor": 5
}

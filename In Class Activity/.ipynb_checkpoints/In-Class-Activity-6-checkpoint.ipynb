{
 "cells": [
  {
   "cell_type": "markdown",
   "id": "1221a0e9",
   "metadata": {},
   "source": [
    "# List"
   ]
  },
  {
   "cell_type": "markdown",
   "id": "8cf5ac50",
   "metadata": {},
   "source": [
    "## Create and Access"
   ]
  },
  {
   "cell_type": "markdown",
   "id": "91c090cf",
   "metadata": {},
   "source": [
    "- Create a list called `fruits` containing `\"apple\"`, `\"banana\"`, `\"cherry\"`, and `\"banana\"`.\n",
    "- Print the second item.\n",
    "- Print the length of the list."
   ]
  },
  {
   "cell_type": "code",
   "execution_count": null,
   "id": "23d59ae1",
   "metadata": {
    "vscode": {
     "languageId": "plaintext"
    }
   },
   "outputs": [],
   "source": []
  },
  {
   "cell_type": "markdown",
   "id": "67203ad2",
   "metadata": {},
   "source": [
    "## Modify and Extend"
   ]
  },
  {
   "cell_type": "markdown",
   "id": "6813752d",
   "metadata": {},
   "source": [
    "- Insert `\"orange\"` at index 2.\n",
    "- Append `\"grape\"` to the list.\n",
    "- Extend the list using another list: `[\"kiwi\", \"melon\"]`."
   ]
  },
  {
   "cell_type": "code",
   "execution_count": null,
   "id": "fbca7c64",
   "metadata": {
    "vscode": {
     "languageId": "plaintext"
    }
   },
   "outputs": [],
   "source": []
  },
  {
   "cell_type": "markdown",
   "id": "ff7e2310",
   "metadata": {},
   "source": [
    "## Remove and Loop"
   ]
  },
  {
   "cell_type": "markdown",
   "id": "2e7e231a",
   "metadata": {},
   "source": [
    "- Remove the second `\"banana\"` using `.remove()`.\n",
    "- Remove the item at index 0 using `.pop()`.\n",
    "- Loop through the list and print each fruit."
   ]
  },
  {
   "cell_type": "code",
   "execution_count": null,
   "id": "7f3cfdcb",
   "metadata": {
    "vscode": {
     "languageId": "plaintext"
    }
   },
   "outputs": [],
   "source": []
  },
  {
   "cell_type": "markdown",
   "id": "8e9876d7",
   "metadata": {},
   "source": [
    "## Comprehension and Sorting"
   ]
  },
  {
   "cell_type": "markdown",
   "id": "3b2f6a32",
   "metadata": {},
   "source": [
    "- Create a new list `short_fruits` that includes only fruits with less than 6 letters using list comprehension.\n",
    "- Sort the list alphabetically, then in reverse."
   ]
  },
  {
   "cell_type": "code",
   "execution_count": null,
   "id": "6b07ccaf",
   "metadata": {
    "vscode": {
     "languageId": "plaintext"
    }
   },
   "outputs": [],
   "source": []
  },
  {
   "cell_type": "markdown",
   "id": "06d42f08",
   "metadata": {},
   "source": []
  },
  {
   "cell_type": "markdown",
   "id": "bcd5fea8",
   "metadata": {},
   "source": [
    "# Tuples"
   ]
  },
  {
   "cell_type": "markdown",
   "id": "0430dd18",
   "metadata": {},
   "source": [
    "## Create and Access"
   ]
  },
  {
   "cell_type": "markdown",
   "id": "e610ba05",
   "metadata": {},
   "source": [
    "- Create a tuple `colors` with elements: `\"red\"`, `\"green\"`, `\"blue\"`, `\"red\"`.\n",
    "- Print the item at index 1.\n",
    "- Print the length of the tuple."
   ]
  },
  {
   "cell_type": "code",
   "execution_count": null,
   "id": "14f6c627",
   "metadata": {
    "vscode": {
     "languageId": "plaintext"
    }
   },
   "outputs": [],
   "source": []
  },
  {
   "cell_type": "markdown",
   "id": "e5824457",
   "metadata": {},
   "source": [
    "## Conversion and Modification"
   ]
  },
  {
   "cell_type": "markdown",
   "id": "76fe909a",
   "metadata": {},
   "source": [
    "- Convert the tuple to a list, change `\"green\"` to `\"yellow\"`, then convert it back to a tuple.\n",
    "- Add a new item `\"purple\"` by converting and appending.\n",
    "- Remove `\"red\"` from the modified tuple."
   ]
  },
  {
   "cell_type": "code",
   "execution_count": null,
   "id": "778b5b5f",
   "metadata": {
    "vscode": {
     "languageId": "plaintext"
    }
   },
   "outputs": [],
   "source": []
  },
  {
   "cell_type": "markdown",
   "id": "14b37548",
   "metadata": {},
   "source": [
    "## Looping"
   ]
  },
  {
   "cell_type": "markdown",
   "id": "c42f6b39",
   "metadata": {},
   "source": [
    "Loop through the final tuple and print each color."
   ]
  },
  {
   "cell_type": "code",
   "execution_count": null,
   "id": "5fce715e",
   "metadata": {
    "vscode": {
     "languageId": "plaintext"
    }
   },
   "outputs": [],
   "source": []
  },
  {
   "cell_type": "markdown",
   "id": "33c6d4af",
   "metadata": {},
   "source": [
    "# Sets"
   ]
  },
  {
   "cell_type": "markdown",
   "id": "39d7859d",
   "metadata": {},
   "source": [
    "## Create and Properties"
   ]
  },
  {
   "cell_type": "markdown",
   "id": "6d0c8b61",
   "metadata": {},
   "source": [
    "- Create a set `unique_numbers` with values: `1, 2, 3, 4, 1, 2`.\n",
    "- Print the set and explain what happened to the duplicates.\n",
    "- Check if `3` is in the set."
   ]
  },
  {
   "cell_type": "code",
   "execution_count": null,
   "id": "05a289ba",
   "metadata": {
    "vscode": {
     "languageId": "plaintext"
    }
   },
   "outputs": [],
   "source": []
  },
  {
   "cell_type": "markdown",
   "id": "e75e7d35",
   "metadata": {},
   "source": [
    "## Modification"
   ]
  },
  {
   "cell_type": "markdown",
   "id": "420ab824",
   "metadata": {},
   "source": [
    "- Add `5` to the set using `.add()`.\n",
    "- Update the set with another set `{6, 7, 8}`.\n",
    "- Remove an item using `.discard()`."
   ]
  },
  {
   "cell_type": "code",
   "execution_count": null,
   "id": "86e7b514",
   "metadata": {
    "vscode": {
     "languageId": "plaintext"
    }
   },
   "outputs": [],
   "source": []
  },
  {
   "cell_type": "markdown",
   "id": "82b4bf40",
   "metadata": {},
   "source": [
    "## Loop"
   ]
  },
  {
   "cell_type": "markdown",
   "id": "3f5af1fe",
   "metadata": {},
   "source": [
    "- Loop through the set and print each item."
   ]
  },
  {
   "cell_type": "code",
   "execution_count": null,
   "id": "55f63e6e",
   "metadata": {
    "vscode": {
     "languageId": "plaintext"
    }
   },
   "outputs": [],
   "source": []
  },
  {
   "cell_type": "markdown",
   "id": "af4d92f3",
   "metadata": {},
   "source": [
    "# Dictionaries"
   ]
  },
  {
   "cell_type": "markdown",
   "id": "70e44bf5",
   "metadata": {},
   "source": [
    "## Create and Access"
   ]
  },
  {
   "cell_type": "markdown",
   "id": "3a902bcb",
   "metadata": {},
   "source": [
    "- Create a dictionary `student` with keys: `\"name\"`, `\"age\"`, `\"major\"` and appropriate values.\n",
    "- Access and print the `\"major\"` using both `[]` and `.get()`."
   ]
  },
  {
   "cell_type": "code",
   "execution_count": null,
   "id": "63caf934",
   "metadata": {
    "vscode": {
     "languageId": "plaintext"
    }
   },
   "outputs": [],
   "source": []
  },
  {
   "cell_type": "markdown",
   "id": "493ffb1b",
   "metadata": {},
   "source": [
    "## Modification"
   ]
  },
  {
   "cell_type": "markdown",
   "id": "0edd3ad9",
   "metadata": {},
   "source": [
    "- Change the `\"age\"` to a new value.\n",
    "- Add a new key `\"graduated\"` with value `False`.\n",
    "- Update the `\"major\"` to `\"Computer Science\"` using `.update()`."
   ]
  },
  {
   "cell_type": "code",
   "execution_count": null,
   "id": "fdc45b92",
   "metadata": {
    "vscode": {
     "languageId": "plaintext"
    }
   },
   "outputs": [],
   "source": []
  },
  {
   "cell_type": "markdown",
   "id": "984a47b7",
   "metadata": {},
   "source": [
    "## Loop"
   ]
  },
  {
   "cell_type": "markdown",
   "id": "7d9cecb6",
   "metadata": {},
   "source": [
    "- Print all keys.\n",
    "- Print all values.\n",
    "- Print both keys and values using `.items()`."
   ]
  },
  {
   "cell_type": "code",
   "execution_count": null,
   "id": "1f01bc9f",
   "metadata": {
    "vscode": {
     "languageId": "plaintext"
    }
   },
   "outputs": [],
   "source": []
  },
  {
   "cell_type": "markdown",
   "id": "a4b4f7cd",
   "metadata": {},
   "source": []
  }
 ],
 "metadata": {
  "kernelspec": {
   "display_name": "Python 3 (ipykernel)",
   "language": "python",
   "name": "python3"
  },
  "language_info": {
   "codemirror_mode": {
    "name": "ipython",
    "version": 3
   },
   "file_extension": ".py",
   "mimetype": "text/x-python",
   "name": "python",
   "nbconvert_exporter": "python",
   "pygments_lexer": "ipython3",
   "version": "3.11.5"
  }
 },
 "nbformat": 4,
 "nbformat_minor": 5
}

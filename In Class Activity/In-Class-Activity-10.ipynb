{
 "cells": [
  {
   "cell_type": "markdown",
   "id": "11dd2ef8",
   "metadata": {},
   "source": [
    "## Handle a NameError"
   ]
  },
  {
   "cell_type": "markdown",
   "id": "bfbe5829",
   "metadata": {},
   "source": [
    "Write code that tries to print a variable that doesn’t exist, and handles the error using `except`."
   ]
  },
  {
   "cell_type": "code",
   "execution_count": null,
   "id": "53479761",
   "metadata": {},
   "outputs": [],
   "source": []
  },
  {
   "cell_type": "markdown",
   "id": "b7afdd4d",
   "metadata": {},
   "source": [
    "## Handle Division by Zero"
   ]
  },
  {
   "cell_type": "markdown",
   "id": "7877b645",
   "metadata": {},
   "source": [
    "Ask the user for a number and divide 100 by that number. Use `try-except` to catch division by zero."
   ]
  },
  {
   "cell_type": "code",
   "execution_count": null,
   "id": "3ac1e0fe",
   "metadata": {},
   "outputs": [],
   "source": []
  },
  {
   "cell_type": "markdown",
   "id": "0b651fcd",
   "metadata": {},
   "source": [
    "## Use `else` in Try-Except"
   ]
  },
  {
   "cell_type": "markdown",
   "id": "4eebbef2",
   "metadata": {},
   "source": [
    "Write a program that divides two numbers. If no exception occurs, print \"No exception!\" using `else`."
   ]
  },
  {
   "cell_type": "code",
   "execution_count": null,
   "id": "be7e8dbe",
   "metadata": {},
   "outputs": [],
   "source": []
  },
  {
   "cell_type": "markdown",
   "id": "9a32f1f7",
   "metadata": {},
   "source": [
    "## Raise a Custom Exception"
   ]
  },
  {
   "cell_type": "markdown",
   "id": "1053c9d1",
   "metadata": {},
   "source": [
    "Write a function that takes an age as input. If the age is less than 0, raise a `ValueError` with a message like “Age cannot be negative”."
   ]
  },
  {
   "cell_type": "code",
   "execution_count": null,
   "id": "17448f6e",
   "metadata": {},
   "outputs": [],
   "source": []
  },
  {
   "cell_type": "markdown",
   "id": "562b59ec",
   "metadata": {},
   "source": [
    "## Catch Specific Exception Types"
   ]
  },
  {
   "cell_type": "markdown",
   "id": "ad9fda97",
   "metadata": {},
   "source": [
    "Write code that causes both a `ValueError` and a `ZeroDivisionError`, and handle each with a different `except` block."
   ]
  },
  {
   "cell_type": "code",
   "execution_count": null,
   "id": "1b689319",
   "metadata": {},
   "outputs": [],
   "source": []
  },
  {
   "cell_type": "markdown",
   "id": "66ccde6a",
   "metadata": {},
   "source": [
    "## Full Structure Example"
   ]
  },
  {
   "cell_type": "markdown",
   "id": "2c644bc9",
   "metadata": {},
   "source": [
    "Write code that uses all 4 parts of try-except: `try`, `except`, `else`, and `finally` to check if a user input is an integer greater than zero and print appropriate messages."
   ]
  },
  {
   "cell_type": "code",
   "execution_count": null,
   "id": "df8496fa",
   "metadata": {},
   "outputs": [],
   "source": []
  }
 ],
 "metadata": {
  "kernelspec": {
   "display_name": "Python 3 (ipykernel)",
   "language": "python",
   "name": "python3"
  },
  "language_info": {
   "codemirror_mode": {
    "name": "ipython",
    "version": 3
   },
   "file_extension": ".py",
   "mimetype": "text/x-python",
   "name": "python",
   "nbconvert_exporter": "python",
   "pygments_lexer": "ipython3",
   "version": "3.11.5"
  }
 },
 "nbformat": 4,
 "nbformat_minor": 5
}

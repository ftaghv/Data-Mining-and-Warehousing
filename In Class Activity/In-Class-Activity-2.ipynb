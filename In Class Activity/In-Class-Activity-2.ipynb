{
 "cells": [
  {
   "cell_type": "markdown",
   "id": "8581e80a",
   "metadata": {},
   "source": [
    "## Arithmetic Operators"
   ]
  },
  {
   "cell_type": "markdown",
   "id": "3c784f87",
   "metadata": {},
   "source": [
    "Create two variables:\n",
    "```python\n",
    "a = 12  \n",
    "b = 5\n",
    "```\n",
    "Perform and print the result of:\n",
    "- Addition\n",
    "- Subtraction\n",
    "- Multiplication\n",
    "- Division\n",
    "- Modulus\n",
    "- Exponentiation\n",
    "- Floor Division"
   ]
  },
  {
   "cell_type": "code",
   "execution_count": null,
   "id": "2710d448",
   "metadata": {
    "vscode": {
     "languageId": "plaintext"
    }
   },
   "outputs": [],
   "source": []
  },
  {
   "cell_type": "markdown",
   "id": "51ab04f7",
   "metadata": {},
   "source": [
    "## Assignment Operators"
   ]
  },
  {
   "cell_type": "markdown",
   "id": "fcc473b8",
   "metadata": {},
   "source": [
    "Start with:\n",
    "```python\n",
    "x = 10\n",
    "```\n",
    "Use assignment operators to:\n",
    "- Add 5 to `x`\n",
    "- Subtract 3 from `x`\n",
    "- Multiply `x` by 2\n",
    "- Divide `x` by 4\n",
    "\n",
    "Print `x` after each step."
   ]
  },
  {
   "cell_type": "code",
   "execution_count": null,
   "id": "8fa902ea",
   "metadata": {
    "vscode": {
     "languageId": "plaintext"
    }
   },
   "outputs": [],
   "source": []
  },
  {
   "cell_type": "markdown",
   "id": "8a9e286c",
   "metadata": {},
   "source": [
    "## Comparison and Logical Operators"
   ]
  },
  {
   "cell_type": "markdown",
   "id": "1aa9b137",
   "metadata": {},
   "source": [
    "Create two variables:\n",
    "```python\n",
    "x = 8  \n",
    "y = 12\n",
    "```\n",
    "Use comparison operators to check and print whether:\n",
    "- `x` is equal to `y`\n",
    "- `x` is not equal to `y`\n",
    "- `x` is greater than `y`\n",
    "- `x` is less than or equal to `y`"
   ]
  },
  {
   "cell_type": "code",
   "execution_count": null,
   "id": "7d88f064",
   "metadata": {
    "vscode": {
     "languageId": "plaintext"
    }
   },
   "outputs": [],
   "source": []
  },
  {
   "cell_type": "markdown",
   "id": "e28d6265",
   "metadata": {},
   "source": [
    "Use logical operators with the same `x` and `y`:\n",
    "- Check if `x` is less than 10 **and** `y` is greater than 10  \n",
    "- Check if `x` is greater than 10 **or** `y` is greater than 10  \n",
    "- Check if `not(x == y)`"
   ]
  },
  {
   "cell_type": "code",
   "execution_count": null,
   "id": "a20981ba",
   "metadata": {
    "vscode": {
     "languageId": "plaintext"
    }
   },
   "outputs": [],
   "source": []
  },
  {
   "cell_type": "markdown",
   "id": "c73c6932",
   "metadata": {},
   "source": [
    "## Identity Operators"
   ]
  },
  {
   "cell_type": "markdown",
   "id": "535d404a",
   "metadata": {},
   "source": [
    "```python\n",
    "a = [1, 2, 3]  \n",
    "b = a  \n",
    "c = [1, 2, 3]\n",
    "```\n",
    "Check and print:\n",
    "- `a is b`\n",
    "- `a is c`\n",
    "- `a == c`\n",
    "- `a is not c`"
   ]
  },
  {
   "cell_type": "code",
   "execution_count": null,
   "id": "def2b2ce",
   "metadata": {
    "vscode": {
     "languageId": "plaintext"
    }
   },
   "outputs": [],
   "source": []
  },
  {
   "cell_type": "markdown",
   "id": "10f2aa9b",
   "metadata": {},
   "source": [
    "## Operator Precedence"
   ]
  },
  {
   "cell_type": "markdown",
   "id": "416792d2",
   "metadata": {},
   "source": [
    "Write and evaluate:\n",
    "```python\n",
    "print(5 + 2 * 3)\n",
    "print((5 + 2) * 3)\n",
    "print(2 ** 3 ** 2)\n",
    "```"
   ]
  },
  {
   "cell_type": "code",
   "execution_count": null,
   "id": "af7eaa1a",
   "metadata": {
    "vscode": {
     "languageId": "plaintext"
    }
   },
   "outputs": [],
   "source": []
  },
  {
   "cell_type": "markdown",
   "id": "d756393f",
   "metadata": {},
   "source": [
    "## User Input"
   ]
  },
  {
   "cell_type": "markdown",
   "id": "2cbe1d7c",
   "metadata": {},
   "source": [
    "Ask the user for their name using `input()` and greet them."
   ]
  },
  {
   "cell_type": "code",
   "execution_count": null,
   "id": "08182e5c",
   "metadata": {
    "vscode": {
     "languageId": "plaintext"
    }
   },
   "outputs": [],
   "source": []
  },
  {
   "cell_type": "markdown",
   "id": "22923c22",
   "metadata": {},
   "source": [
    "Ask the user for:\n",
    "- Their favorite animal\n",
    "- Their favorite color\n",
    "- A number\n",
    "\n",
    "Then print a sentence like:  \n",
    "`Do you want a blue tiger with 7 legs?`"
   ]
  },
  {
   "cell_type": "code",
   "execution_count": null,
   "id": "021867e9",
   "metadata": {
    "vscode": {
     "languageId": "plaintext"
    }
   },
   "outputs": [],
   "source": []
  }
 ],
 "metadata": {
  "language_info": {
   "name": "python"
  }
 },
 "nbformat": 4,
 "nbformat_minor": 5
}

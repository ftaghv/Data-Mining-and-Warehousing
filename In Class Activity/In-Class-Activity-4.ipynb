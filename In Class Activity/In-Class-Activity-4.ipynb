{
 "cells": [
  {
   "cell_type": "markdown",
   "id": "c1b64918",
   "metadata": {},
   "source": [
    "## While Loops"
   ]
  },
  {
   "cell_type": "markdown",
   "id": "bb2c5128",
   "metadata": {},
   "source": [
    "Use a `while` loop to print the numbers from 1 to 5."
   ]
  },
  {
   "cell_type": "code",
   "execution_count": null,
   "id": "767d765d",
   "metadata": {
    "vscode": {
     "languageId": "plaintext"
    }
   },
   "outputs": [],
   "source": []
  },
  {
   "cell_type": "markdown",
   "id": "15f75378",
   "metadata": {},
   "source": [
    "Use a `while` loop to count from 1 to 5, but stop the loop completely when the number is 3 using `break`."
   ]
  },
  {
   "cell_type": "code",
   "execution_count": null,
   "id": "423238cb",
   "metadata": {
    "vscode": {
     "languageId": "plaintext"
    }
   },
   "outputs": [],
   "source": []
  },
  {
   "cell_type": "markdown",
   "id": "1b25b18c",
   "metadata": {},
   "source": [
    "Use a `while` loop to count from 1 to 5, but skip printing the number 3 using `continue`."
   ]
  },
  {
   "cell_type": "code",
   "execution_count": null,
   "id": "42bc2f29",
   "metadata": {
    "vscode": {
     "languageId": "plaintext"
    }
   },
   "outputs": [],
   "source": []
  },
  {
   "cell_type": "markdown",
   "id": "3360aa3b",
   "metadata": {},
   "source": [
    "Use a `while` loop to count from 1 to 4. When the loop ends, use `else` to print `\"Loop ended\"`."
   ]
  },
  {
   "cell_type": "code",
   "execution_count": null,
   "id": "cb7b7850",
   "metadata": {
    "vscode": {
     "languageId": "plaintext"
    }
   },
   "outputs": [],
   "source": []
  },
  {
   "cell_type": "markdown",
   "id": "402681a8",
   "metadata": {},
   "source": [
    "## For Loops"
   ]
  },
  {
   "cell_type": "markdown",
   "id": "ebe73ebb",
   "metadata": {},
   "source": [
    "Create a list of fruits: `[\"apple\", \"banana\", \"cherry\"]`.  \n",
    "Use a `for` loop to print each fruit."
   ]
  },
  {
   "cell_type": "code",
   "execution_count": null,
   "id": "5ce3b899",
   "metadata": {
    "vscode": {
     "languageId": "plaintext"
    }
   },
   "outputs": [],
   "source": []
  },
  {
   "cell_type": "markdown",
   "id": "beb24a5c",
   "metadata": {},
   "source": [
    "Use a `for` loop to print each letter in the word `\"banana\"`."
   ]
  },
  {
   "cell_type": "code",
   "execution_count": null,
   "id": "b3630ed1",
   "metadata": {
    "vscode": {
     "languageId": "plaintext"
    }
   },
   "outputs": [],
   "source": []
  },
  {
   "cell_type": "markdown",
   "id": "631458c0",
   "metadata": {},
   "source": [
    "Use a `for` loop and `range()` to print the numbers from 0 to 4."
   ]
  },
  {
   "cell_type": "code",
   "execution_count": null,
   "id": "06d7d699",
   "metadata": {
    "vscode": {
     "languageId": "plaintext"
    }
   },
   "outputs": [],
   "source": []
  },
  {
   "cell_type": "markdown",
   "id": "3cdf0095",
   "metadata": {},
   "source": [
    "Use a `for` loop to print numbers from 2 to 5 using `range(2, 6)`."
   ]
  },
  {
   "cell_type": "code",
   "execution_count": null,
   "id": "c989b1b9",
   "metadata": {
    "vscode": {
     "languageId": "plaintext"
    }
   },
   "outputs": [],
   "source": []
  },
  {
   "cell_type": "markdown",
   "id": "db65e3f9",
   "metadata": {},
   "source": [
    "Use a `for` loop to print every 3rd number from 2 to 20 using `range(2, 21, 3)`."
   ]
  },
  {
   "cell_type": "markdown",
   "id": "773a82bc",
   "metadata": {},
   "source": [
    "## Nested Loops"
   ]
  },
  {
   "cell_type": "markdown",
   "id": "c787505c",
   "metadata": {},
   "source": [
    "Create two lists:\n",
    "\n",
    "```python\n",
    "flavors = [\"vanilla\", \"chocolate\", \"strawberry\"]\n",
    "toppings = [\"sprinkles\", \"chocolate chips\", \"caramel\"]\n",
    "```\n",
    "\n",
    "Use **nested loops** to print every possible ice cream + topping combination.\n",
    "\n",
    "### Example Output:\n",
    "\n",
    "```\n",
    "vanilla with sprinkles  \n",
    "vanilla with chocolate chips  \n",
    "vanilla with caramel  \n",
    "chocolate with sprinkles  \n",
    "```"
   ]
  },
  {
   "cell_type": "markdown",
   "id": "061c72cf",
   "metadata": {},
   "source": []
  }
 ],
 "metadata": {
  "language_info": {
   "name": "python"
  }
 },
 "nbformat": 4,
 "nbformat_minor": 5
}

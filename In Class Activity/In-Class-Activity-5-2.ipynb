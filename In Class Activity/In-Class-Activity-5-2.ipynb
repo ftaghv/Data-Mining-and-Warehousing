{
 "cells": [
  {
   "cell_type": "markdown",
   "id": "3f3cc70c",
   "metadata": {},
   "source": [
    "## Basic Addition"
   ]
  },
  {
   "cell_type": "markdown",
   "id": "8c7ecc64",
   "metadata": {},
   "source": [
    "Write a `lambda function` that adds `15` to the input number and assign it to a variable. Use it to compute the result for the number `10`."
   ]
  },
  {
   "cell_type": "code",
   "execution_count": null,
   "id": "211e246d",
   "metadata": {},
   "outputs": [],
   "source": []
  },
  {
   "cell_type": "markdown",
   "id": "7d07a8cf",
   "metadata": {},
   "source": [
    "## Multiplication with Two Inputs"
   ]
  },
  {
   "cell_type": "markdown",
   "id": "9eccc7aa",
   "metadata": {},
   "source": [
    "Create a `lambda function` that `multiplies` two arguments and `returns` the result. Use it to multiply `7` and `8`."
   ]
  },
  {
   "cell_type": "code",
   "execution_count": null,
   "id": "8d41c43a",
   "metadata": {},
   "outputs": [],
   "source": []
  },
  {
   "cell_type": "markdown",
   "id": "b39a334f",
   "metadata": {},
   "source": [
    "## Sum of Three Numbers"
   ]
  },
  {
   "cell_type": "markdown",
   "id": "cc337cc6",
   "metadata": {},
   "source": [
    "efine a `lambda function` that `returns` the `sum` of three numbers. Compute the result for `(3, 4, 5)`."
   ]
  },
  {
   "cell_type": "code",
   "execution_count": null,
   "id": "bc8a664f",
   "metadata": {},
   "outputs": [],
   "source": []
  },
  {
   "cell_type": "markdown",
   "id": "4a2f7642",
   "metadata": {},
   "source": [
    "## Custom Power Function"
   ]
  },
  {
   "cell_type": "markdown",
   "id": "75e3da12",
   "metadata": {},
   "source": [
    "Write a function `make_power_func(power)` that returns a lambda function to raise a number to the given `power`.\n",
    "Use it to create a `square` function and test it on number 9."
   ]
  },
  {
   "cell_type": "code",
   "execution_count": null,
   "id": "863dfe30",
   "metadata": {},
   "outputs": [],
   "source": []
  }
 ],
 "metadata": {
  "kernelspec": {
   "display_name": "Python 3 (ipykernel)",
   "language": "python",
   "name": "python3"
  },
  "language_info": {
   "codemirror_mode": {
    "name": "ipython",
    "version": 3
   },
   "file_extension": ".py",
   "mimetype": "text/x-python",
   "name": "python",
   "nbconvert_exporter": "python",
   "pygments_lexer": "ipython3",
   "version": "3.11.5"
  }
 },
 "nbformat": 4,
 "nbformat_minor": 5
}

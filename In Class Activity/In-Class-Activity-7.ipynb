{
 "cells": [
  {
   "cell_type": "markdown",
   "id": "ea3b58d5",
   "metadata": {},
   "source": [
    "## Creating a Class and Object"
   ]
  },
  {
   "cell_type": "markdown",
   "id": "2bc07e82",
   "metadata": {},
   "source": [
    "Create a class called `Student` with a class attribute `school_name = \"Greenwood Middle School\"`  \n",
    "Then:\n",
    "- Create an object named `student1`\n",
    "- Print the school name from `student1"
   ]
  },
  {
   "cell_type": "code",
   "execution_count": null,
   "id": "46dbdd30",
   "metadata": {
    "vscode": {
     "languageId": "plaintext"
    }
   },
   "outputs": [],
   "source": []
  },
  {
   "cell_type": "markdown",
   "id": "abb72199",
   "metadata": {},
   "source": [
    "## Using `__init__()` to Set Attributes"
   ]
  },
  {
   "cell_type": "markdown",
   "id": "fd2f458f",
   "metadata": {},
   "source": [
    "Update your `Student` class to take two parameters in the constructor: `name` and `grade`.  \n",
    "Inside `__init__()`, set them as object attributes.  \n",
    "Create two student objects and print their names and grades."
   ]
  },
  {
   "cell_type": "code",
   "execution_count": null,
   "id": "f60cb2fe",
   "metadata": {
    "vscode": {
     "languageId": "plaintext"
    }
   },
   "outputs": [],
   "source": []
  },
  {
   "cell_type": "markdown",
   "id": "03b4ebf4",
   "metadata": {},
   "source": [
    "## Object Method"
   ]
  },
  {
   "cell_type": "markdown",
   "id": "bc11dd7c",
   "metadata": {},
   "source": [
    "Add a method `introduce(self)` to the `Student` class that prints:  \n",
    "`\"Hi, I’m [name] from grade [grade] at [school_name]!\"`  \n",
    "Call this method using both student objects you created earlier."
   ]
  },
  {
   "cell_type": "code",
   "execution_count": null,
   "id": "791a5c43",
   "metadata": {
    "vscode": {
     "languageId": "plaintext"
    }
   },
   "outputs": [],
   "source": []
  },
  {
   "cell_type": "markdown",
   "id": "9019e346",
   "metadata": {},
   "source": [
    "## Customize with Parameters"
   ]
  },
  {
   "cell_type": "markdown",
   "id": "51c11fe6",
   "metadata": {},
   "source": [
    "Modify the class to include a `favorite_subject` parameter in `__init__()` with a default value of `\"Math\"`.  \n",
    "Create a third student with a different favorite subject.  \n",
    "Print their info using the method from above."
   ]
  },
  {
   "cell_type": "code",
   "execution_count": null,
   "id": "ca115b4f",
   "metadata": {
    "vscode": {
     "languageId": "plaintext"
    }
   },
   "outputs": [],
   "source": []
  }
 ],
 "metadata": {
  "language_info": {
   "name": "python"
  }
 },
 "nbformat": 4,
 "nbformat_minor": 5
}

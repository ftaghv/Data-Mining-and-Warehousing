{
 "cells": [
  {
   "cell_type": "markdown",
   "id": "c38f4134",
   "metadata": {},
   "source": [
    "## Create a Parent Class"
   ]
  },
  {
   "cell_type": "markdown",
   "id": "76411e98",
   "metadata": {},
   "source": [
    "Define a class called `Person`  \n",
    "- Add `__init__()` with two parameters: `first_name` and `last_name`  \n",
    "- Add a method `print_name()` that prints the full name  \n",
    "- Create a `Person` object and call `print_name()`"
   ]
  },
  {
   "cell_type": "code",
   "execution_count": null,
   "id": "49d6621e",
   "metadata": {
    "vscode": {
     "languageId": "plaintext"
    }
   },
   "outputs": [],
   "source": []
  },
  {
   "cell_type": "markdown",
   "id": "748a2f50",
   "metadata": {},
   "source": [
    "## Create a Child Class"
   ]
  },
  {
   "cell_type": "markdown",
   "id": "25d8ae9e",
   "metadata": {},
   "source": [
    "Create a class called `Student` that inherits from `Person`  \n",
    "- Use `pass` for now (don’t add anything else)  \n",
    "- Create a `Student` object and call `print_name()`  \n",
    "- Does it work? Why?"
   ]
  },
  {
   "cell_type": "code",
   "execution_count": null,
   "id": "86125084",
   "metadata": {
    "vscode": {
     "languageId": "plaintext"
    }
   },
   "outputs": [],
   "source": []
  },
  {
   "cell_type": "markdown",
   "id": "fab51f28",
   "metadata": {},
   "source": [
    "## Add `__init__()` to the Child Class"
   ]
  },
  {
   "cell_type": "markdown",
   "id": "be9abf95",
   "metadata": {},
   "source": [
    "Add your own `__init__()` in `Student`  \n",
    "- Make sure to call the parent’s `__init__()` using `super()`  \n",
    "- Add a new attribute `grade`  \n",
    "- Create a student and print name and grade\n"
   ]
  },
  {
   "cell_type": "code",
   "execution_count": null,
   "id": "e588c29e",
   "metadata": {
    "vscode": {
     "languageId": "plaintext"
    }
   },
   "outputs": [],
   "source": []
  },
  {
   "cell_type": "markdown",
   "id": "cc84a847",
   "metadata": {},
   "source": [
    "## Add a Method to the Child Class"
   ]
  },
  {
   "cell_type": "markdown",
   "id": "db14a7bb",
   "metadata": {},
   "source": [
    "Add a method `introduce()` to the `Student` class  \n",
    "- It should print:  \n",
    "  `\"Hi, I’m [first_name] [last_name] and I’m in grade [grade]!\"`  \n",
    "- Call this method using a `Student` object"
   ]
  },
  {
   "cell_type": "code",
   "execution_count": null,
   "id": "a47afa46",
   "metadata": {
    "vscode": {
     "languageId": "plaintext"
    }
   },
   "outputs": [],
   "source": []
  }
 ],
 "metadata": {
  "language_info": {
   "name": "python"
  }
 },
 "nbformat": 4,
 "nbformat_minor": 5
}

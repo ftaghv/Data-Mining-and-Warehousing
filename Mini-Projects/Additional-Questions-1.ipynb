{
 "cells": [
  {
   "cell_type": "markdown",
   "id": "3ea3b350",
   "metadata": {},
   "source": [
    "## Student Report Card Generator"
   ]
  },
  {
   "cell_type": "markdown",
   "id": "87791b43",
   "metadata": {},
   "source": [
    "Create a program that stores a student’s name, grade level, and three subject scores.  \n",
    "- Include a method to calculate the **average score**.\n",
    "- Include another method to print a **report card** with name, grade, and average.\n",
    "- Add a method that gives a grade (\"A\", \"B\", etc.) based on the average."
   ]
  },
  {
   "cell_type": "code",
   "execution_count": null,
   "id": "dd1316f6",
   "metadata": {
    "vscode": {
     "languageId": "plaintext"
    }
   },
   "outputs": [],
   "source": []
  },
  {
   "cell_type": "markdown",
   "id": "f971c01d",
   "metadata": {},
   "source": [
    "## Library Book Tracker"
   ]
  },
  {
   "cell_type": "markdown",
   "id": "52b474d3",
   "metadata": {},
   "source": [
    "Build a `Book` class that stores:\n",
    "- Title\n",
    "- Author\n",
    "- Checked out status (`True`/`False`)\n",
    "\n",
    "Add methods to:\n",
    "- `check_out()` – marks the book as checked out  \n",
    "- `return_book()` – marks it as returned  \n",
    "- `display_info()` – prints title, author, and availability"
   ]
  },
  {
   "cell_type": "code",
   "execution_count": null,
   "id": "8991ed79",
   "metadata": {
    "vscode": {
     "languageId": "plaintext"
    }
   },
   "outputs": [],
   "source": []
  },
  {
   "cell_type": "markdown",
   "id": "3cf49fe3",
   "metadata": {},
   "source": [
    "## Cafeteria Menu Planner"
   ]
  },
  {
   "cell_type": "markdown",
   "id": "103d7817",
   "metadata": {},
   "source": [
    "Create a `MenuItem` class with:\n",
    "- name\n",
    "- category (e.g., \"Main\", \"Drink\", \"Dessert\")\n",
    "- price\n",
    "\n",
    "Add a method to:\n",
    "- `describe()` – prints the full item description"
   ]
  },
  {
   "cell_type": "code",
   "execution_count": null,
   "id": "b1eb47d9",
   "metadata": {
    "vscode": {
     "languageId": "plaintext"
    }
   },
   "outputs": [],
   "source": []
  },
  {
   "cell_type": "markdown",
   "id": "d09baeb2",
   "metadata": {},
   "source": [
    "## School Bus Tracker"
   ]
  },
  {
   "cell_type": "markdown",
   "id": "1bf5cbf3",
   "metadata": {},
   "source": [
    "Build a `Bus` class with:\n",
    "- bus number\n",
    "- driver name\n",
    "- list of student names\n",
    "\n",
    "Add methods to:\n",
    "- `add_student(name)`  \n",
    "- `remove_student(name)`  \n",
    "- `list_students()` – print names on the bus"
   ]
  },
  {
   "cell_type": "code",
   "execution_count": null,
   "id": "78da5033",
   "metadata": {
    "vscode": {
     "languageId": "plaintext"
    }
   },
   "outputs": [],
   "source": []
  }
 ],
 "metadata": {
  "language_info": {
   "name": "python"
  }
 },
 "nbformat": 4,
 "nbformat_minor": 5
}

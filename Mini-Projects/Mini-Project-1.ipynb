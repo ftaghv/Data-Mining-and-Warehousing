{
 "cells": [
  {
   "cell_type": "markdown",
   "id": "68ca7939",
   "metadata": {},
   "source": [
    "## Character Customizer"
   ]
  },
  {
   "cell_type": "markdown",
   "id": "1c075544",
   "metadata": {},
   "source": [
    "Create a simple character setup for a game.\n",
    "\n",
    "1. Ask the user for their character’s name.\n",
    "2. Ask them to choose a weapon: `\"sword\"`, `\"wand\"`, or `\"shield\"`.\n",
    "3. Ask for their favorite color (used as a magic power).\n",
    "4. Ask for their character's level (any number).\n",
    "5. Print a welcome message that includes all of their choices.\n",
    "\n",
    "### Example Output:\n",
    "```\n",
    "Welcome, Aria the Blue Warrior!\n",
    "Your sword is ready at level 5.\n",
    "```"
   ]
  },
  {
   "cell_type": "code",
   "execution_count": null,
   "id": "60feab34",
   "metadata": {
    "vscode": {
     "languageId": "plaintext"
    }
   },
   "outputs": [],
   "source": []
  },
  {
   "cell_type": "markdown",
   "id": "c930fdaa",
   "metadata": {},
   "source": [
    "## Chatbot Personality Selector"
   ]
  },
  {
   "cell_type": "markdown",
   "id": "bc40c5b4",
   "metadata": {},
   "source": [
    "Create a simple chatbot that gives the user a \"personality type\".\n",
    "\n",
    "1. Ask the user three yes/no questions:\n",
    "   - Do you like animals?\n",
    "   - Do you prefer day or night?\n",
    "   - Do you enjoy jokes?\n",
    "2. Based on their answers, use `if`, `elif`, and `else` to print a fun personality (e.g., “Cheerful Owl”, “Funny Fox”, “Quiet Cat”).\n",
    "\n",
    "### Example Output:\n",
    "```\n",
    "You are a Funny Fox! Always making people smile.\n",
    "```"
   ]
  },
  {
   "cell_type": "code",
   "execution_count": null,
   "id": "d7aaed3f",
   "metadata": {
    "vscode": {
     "languageId": "plaintext"
    }
   },
   "outputs": [],
   "source": []
  },
  {
   "cell_type": "markdown",
   "id": "4eba4067",
   "metadata": {},
   "source": [
    "## Magic Color Mixer"
   ]
  },
  {
   "cell_type": "markdown",
   "id": "d5d7107b",
   "metadata": {},
   "source": [
    "Combine two colors and tell the user what color they get.\n",
    "\n",
    "1. Ask the user to enter two colors: `\"red\"`, `\"blue\"`, or `\"yellow\"`.\n",
    "2. Use `if-elif-else` to determine the mixed color:\n",
    "   - red + blue → purple\n",
    "   - red + yellow → orange\n",
    "   - blue + yellow → green\n",
    "   - same colors → print the original color\n",
    "   - anything else → print “Invalid combination”\n",
    "\n",
    "### Example Output:\n",
    "```\n",
    "You chose red and yellow → The result is orange!\n",
    "```"
   ]
  },
  {
   "cell_type": "code",
   "execution_count": null,
   "id": "30ccaa84",
   "metadata": {
    "vscode": {
     "languageId": "plaintext"
    }
   },
   "outputs": [],
   "source": []
  },
  {
   "cell_type": "markdown",
   "id": "d5520056",
   "metadata": {},
   "source": [
    "## Simple Shopping Calculator"
   ]
  },
  {
   "cell_type": "markdown",
   "id": "bf5ce8a4",
   "metadata": {},
   "source": [
    "Calculate the total price of a user's fruit purchase.\n",
    "\n",
    "1. Ask the user how many apples they want to buy.\n",
    "2. Ask for the price per apple.\n",
    "3. Ask if they have a discount code (`yes` or `no`).\n",
    "4. If they have a code, apply a 10% discount.\n",
    "5. Print the final total.\n",
    "\n",
    "### Example Output:\n",
    "```\n",
    "Total before discount: $5.00  \n",
    "Discount applied: $0.50  \n",
    "Final total: $4.50\n",
    "```"
   ]
  },
  {
   "cell_type": "code",
   "execution_count": null,
   "id": "a6cc8849",
   "metadata": {
    "vscode": {
     "languageId": "plaintext"
    }
   },
   "outputs": [],
   "source": []
  },
  {
   "cell_type": "markdown",
   "id": "85a743d6",
   "metadata": {},
   "source": [
    "## Lucky Number Checker"
   ]
  },
  {
   "cell_type": "markdown",
   "id": "0e2f83a0",
   "metadata": {},
   "source": [
    "Check if a 2-digit number is \"lucky\" or \"special\".\n",
    "\n",
    "1. Ask the user to enter a 2-digit number.\n",
    "2. Check:\n",
    "   - If both digits are the same → print “You’re lucky!”\n",
    "   - If the sum of the digits is 10 → print “Special number!”\n",
    "   - Otherwise → print “Just a regular number.”\n",
    "\n",
    "*Hint: Convert the number to a string to access individual digits.*\n",
    "\n",
    "### Example Output:\n",
    "```\n",
    "You entered 55 → You’re lucky!\n",
    "```"
   ]
  },
  {
   "cell_type": "markdown",
   "id": "04d6da59",
   "metadata": {},
   "source": []
  },
  {
   "cell_type": "code",
   "execution_count": null,
   "id": "47703134",
   "metadata": {
    "vscode": {
     "languageId": "plaintext"
    }
   },
   "outputs": [],
   "source": []
  }
 ],
 "metadata": {
  "language_info": {
   "name": "python"
  }
 },
 "nbformat": 4,
 "nbformat_minor": 5
}

{
 "cells": [
  {
   "cell_type": "markdown",
   "id": "973de144",
   "metadata": {},
   "source": [
    "## Number Guesser"
   ]
  },
  {
   "cell_type": "markdown",
   "id": "166bb490",
   "metadata": {},
   "source": [
    "Let the user guess a secret number until they get it right.\n",
    "\n",
    "- Set a secret number (e.g., `7`)\n",
    "- Use `input()` to ask the user to guess the number.\n",
    "- Use a `while` loop to keep asking until the guess is correct.\n",
    "- Print `\"Correct!\"` when they get it right."
   ]
  },
  {
   "cell_type": "code",
   "execution_count": null,
   "id": "6d7d48bc",
   "metadata": {
    "vscode": {
     "languageId": "plaintext"
    }
   },
   "outputs": [],
   "source": []
  },
  {
   "cell_type": "markdown",
   "id": "f608ba4c",
   "metadata": {},
   "source": [
    "## Count Down Timer"
   ]
  },
  {
   "cell_type": "markdown",
   "id": "76193dc1",
   "metadata": {},
   "source": [
    "Count down from a number the user chooses.\n",
    "\n",
    "- Ask the user for a starting number.\n",
    "- Use a `while` loop to print numbers counting down to 0.\n",
    "- At the end, print `\"Time's up!\"`"
   ]
  },
  {
   "cell_type": "code",
   "execution_count": null,
   "id": "b6cf9556",
   "metadata": {
    "vscode": {
     "languageId": "plaintext"
    }
   },
   "outputs": [],
   "source": []
  },
  {
   "cell_type": "markdown",
   "id": "8ef7c14a",
   "metadata": {},
   "source": [
    "## Chat Until “Bye”"
   ]
  },
  {
   "cell_type": "markdown",
   "id": "38fe613f",
   "metadata": {},
   "source": [
    "Create a simple chatbot that keeps talking until the user says “bye”.\n",
    "\n",
    "- Use `input()` to get user messages.\n",
    "- If the message is not `\"bye\"`, print `\"I'm listening...\"`.\n",
    "- Use a `while` loop to repeat until the user types `\"bye\"`.\n",
    "- When the user says `\"bye\"`, print `\"Goodbye!\"`."
   ]
  },
  {
   "cell_type": "code",
   "execution_count": null,
   "id": "5cccc1fd",
   "metadata": {
    "vscode": {
     "languageId": "plaintext"
    }
   },
   "outputs": [],
   "source": []
  },
  {
   "cell_type": "markdown",
   "id": "b9ad7c2a",
   "metadata": {},
   "source": [
    "## Dice Roller"
   ]
  },
  {
   "cell_type": "markdown",
   "id": "60e50503",
   "metadata": {},
   "source": [
    "Simulate rolling a dice until you get a 6.\n",
    "\n",
    "- Use `import random` and `random.randint(1, 6)`\n",
    "- Use a `while` loop to roll until the number is 6.\n",
    "- Print each roll"
   ]
  },
  {
   "cell_type": "markdown",
   "id": "381f1f80",
   "metadata": {},
   "source": []
  },
  {
   "cell_type": "markdown",
   "id": "aacfd90f",
   "metadata": {},
   "source": []
  },
  {
   "cell_type": "markdown",
   "id": "0bdeedd8",
   "metadata": {},
   "source": []
  }
 ],
 "metadata": {
  "language_info": {
   "name": "python"
  }
 },
 "nbformat": 4,
 "nbformat_minor": 5
}

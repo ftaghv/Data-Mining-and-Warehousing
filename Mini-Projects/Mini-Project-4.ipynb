{
 "cells": [
  {
   "cell_type": "markdown",
   "id": "1d65246c",
   "metadata": {},
   "source": [
    "## School People Directory"
   ]
  },
  {
   "cell_type": "markdown",
   "id": "e3d93f42",
   "metadata": {},
   "source": [
    "Build a parent class `Person` with name and age.\n",
    "\n",
    "Create two child classes:\n",
    "- `Student` – has grade and favorite subject\n",
    "- `Teacher` – has subject and years of experience\n",
    "\n",
    "Each class should have a method to introduce itself.\n",
    "\n",
    "**Example Output:**\n",
    "```\n",
    "Hi, I’m Olivia and I’m in grade 7. I love Science!\n",
    "Hello, I’m Mr. Brown and I’ve been teaching Math for 10 years.\n",
    "```\n"
   ]
  },
  {
   "cell_type": "code",
   "execution_count": null,
   "id": "af3470c2",
   "metadata": {
    "vscode": {
     "languageId": "plaintext"
    }
   },
   "outputs": [],
   "source": []
  },
  {
   "cell_type": "markdown",
   "id": "a643a052",
   "metadata": {},
   "source": [
    "## Animal Kingdom"
   ]
  },
  {
   "cell_type": "markdown",
   "id": "6086ec84",
   "metadata": {},
   "source": [
    "Create a class `Animal` with a name and species.\n",
    "\n",
    "Create child classes:\n",
    "- `Dog` – adds breed and method `bark()`\n",
    "- `Cat` – adds color and method `meow()`\n",
    "\n",
    "Each class should also inherit and use a method like `describe()` from `Animal`."
   ]
  },
  {
   "cell_type": "code",
   "execution_count": null,
   "id": "fd1b82ff",
   "metadata": {
    "vscode": {
     "languageId": "plaintext"
    }
   },
   "outputs": [],
   "source": []
  },
  {
   "cell_type": "markdown",
   "id": "f2945618",
   "metadata": {},
   "source": [
    "## Vehicle Tracker"
   ]
  },
  {
   "cell_type": "markdown",
   "id": "93ce966c",
   "metadata": {},
   "source": [
    "Create a base class `Vehicle` with `make` and `year`.\n",
    "\n",
    "Create child classes:\n",
    "- `Car` – adds number of doors\n",
    "- `Bus` – adds passenger capacity\n",
    "\n",
    "Add a method `describe()` to each class that prints the vehicle info."
   ]
  },
  {
   "cell_type": "code",
   "execution_count": null,
   "id": "937696f1",
   "metadata": {
    "vscode": {
     "languageId": "plaintext"
    }
   },
   "outputs": [],
   "source": []
  },
  {
   "cell_type": "markdown",
   "id": "4af5dcb6",
   "metadata": {},
   "source": []
  }
 ],
 "metadata": {
  "language_info": {
   "name": "python"
  }
 },
 "nbformat": 4,
 "nbformat_minor": 5
}
